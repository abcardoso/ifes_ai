{
  "nbformat": 4,
  "nbformat_minor": 0,
  "metadata": {
    "colab": {
      "provenance": [],
      "include_colab_link": true
    },
    "kernelspec": {
      "name": "python3",
      "display_name": "Python 3"
    },
    "language_info": {
      "name": "python"
    }
  },
  "cells": [
    {
      "cell_type": "markdown",
      "metadata": {
        "id": "view-in-github",
        "colab_type": "text"
      },
      "source": [
        "<a href=\"https://colab.research.google.com/github/abcardoso/ifes_ai/blob/main/IA_GeneticAlgorithm_8queens_Solucao.ipynb\" target=\"_parent\"><img src=\"https://colab.research.google.com/assets/colab-badge.svg\" alt=\"Open In Colab\"/></a>"
      ]
    },
    {
      "cell_type": "markdown",
      "source": [
        "Teste de implementação em phyton do Algoritmo Genético.\n",
        "Obs.:"
      ],
      "metadata": {
        "id": "n8AwNSzzRWZ5"
      }
    },
    {
      "cell_type": "markdown",
      "source": [
        "# Algoritmo Genético\n",
        "## Para o problema das 8 rainhas"
      ],
      "metadata": {
        "id": "hX_HwCvidpyR"
      }
    },
    {
      "cell_type": "markdown",
      "source": [
        "## Importações"
      ],
      "metadata": {
        "id": "JzA1EYj1HC76"
      }
    },
    {
      "cell_type": "code",
      "source": [
        "# Manipulação de dados\n",
        "import numpy as np\n",
        "#import pandas as pd\n",
        "\n",
        "# Geração de números aleatórios\n",
        "import random"
      ],
      "metadata": {
        "id": "XkS2WmGGHGN2"
      },
      "execution_count": 2,
      "outputs": []
    },
    {
      "cell_type": "code",
      "source": [
        "#VT = np.array([4,8,2,7,3,1,5,6])\n",
        "VT = np.array([4,8,2,7,3,7,5,4])\n",
        "\n",
        "VT"
      ],
      "metadata": {
        "colab": {
          "base_uri": "https://localhost:8080/"
        },
        "id": "tF1W659hMnFE",
        "outputId": "14091f14-de39-4cb0-f6ce-e17acc4f0a8c"
      },
      "execution_count": 3,
      "outputs": [
        {
          "output_type": "execute_result",
          "data": {
            "text/plain": [
              "array([4, 8, 2, 7, 3, 7, 5, 4])"
            ]
          },
          "metadata": {},
          "execution_count": 3
        }
      ]
    },
    {
      "cell_type": "markdown",
      "source": [
        "## Funções Auxiliares - Problema"
      ],
      "metadata": {
        "id": "2nnjfm3TeGvW"
      }
    },
    {
      "cell_type": "markdown",
      "source": [
        "### Converte Vetor em Tabuleiro"
      ],
      "metadata": {
        "id": "p_EHH-ACFL53"
      }
    },
    {
      "cell_type": "code",
      "source": [
        "def converte_tabuleiro(VT):\n",
        "    '''\n",
        "    Recebe um vetor representando um tabuleiro\n",
        "    com N rainhas, uma por coluna e retorna\n",
        "    uma lista de lista de 0 e 1 representando\n",
        "    um tabuleiro com as rainhas.\n",
        "    '''\n",
        "    N = len(VT)\n",
        "\n",
        "    L = [0]*N\n",
        "    T = []\n",
        "    for i in range(N):\n",
        "        T += [L.copy()]\n",
        "\n",
        "    for lin in range(N):\n",
        "        for col in range(N):\n",
        "            if lin+1 == VT[col]:\n",
        "                T[lin][col] = 1\n",
        "\n",
        "    return T"
      ],
      "metadata": {
        "id": "8eO_wG3Enx64"
      },
      "execution_count": 4,
      "outputs": []
    },
    {
      "cell_type": "code",
      "source": [
        "converte_tabuleiro(VT)"
      ],
      "metadata": {
        "colab": {
          "base_uri": "https://localhost:8080/"
        },
        "id": "JA4nMhpNoHR1",
        "outputId": "73a8d70d-9adf-4721-a04d-402458290af2"
      },
      "execution_count": null,
      "outputs": [
        {
          "output_type": "execute_result",
          "data": {
            "text/plain": [
              "[[0, 0, 0, 0, 0, 0, 0, 0],\n",
              " [0, 0, 1, 0, 0, 0, 0, 0],\n",
              " [0, 0, 0, 0, 1, 0, 0, 0],\n",
              " [1, 0, 0, 0, 0, 0, 0, 1],\n",
              " [0, 0, 0, 0, 0, 0, 1, 0],\n",
              " [0, 0, 0, 0, 0, 0, 0, 0],\n",
              " [0, 0, 0, 1, 0, 1, 0, 0],\n",
              " [0, 1, 0, 0, 0, 0, 0, 0]]"
            ]
          },
          "metadata": {},
          "execution_count": 4
        }
      ]
    },
    {
      "cell_type": "markdown",
      "source": [
        "### Calcula custo (Fitness)"
      ],
      "metadata": {
        "id": "GUPKonQ4FVCZ"
      }
    },
    {
      "cell_type": "code",
      "source": [
        "def __conta_ataques_linhas(VT):\n",
        "    '''\n",
        "    Função que recebe um Vetor-Tabuleiro e\n",
        "    retorna o número de pares de rainhas se\n",
        "    atacando mutuamente nas linhas.\n",
        "    '''\n",
        "    ataques = 0\n",
        "    N = len(VT)\n",
        "    for col1 in range(N):\n",
        "        lin1 = VT[col1]\n",
        "        for col2 in range(col1+1, N):\n",
        "            lin2 = VT[col2]\n",
        "            if lin1==lin2:\n",
        "                ataques +=1\n",
        "\n",
        "    return ataques"
      ],
      "metadata": {
        "id": "D25sedCPrrcg"
      },
      "execution_count": 6,
      "outputs": []
    },
    {
      "cell_type": "code",
      "source": [
        "__conta_ataques_linhas(VT)"
      ],
      "metadata": {
        "colab": {
          "base_uri": "https://localhost:8080/"
        },
        "id": "ippPbtD5sodj",
        "outputId": "1bc0b420-a900-463f-8eb1-e8cbc397d9c3"
      },
      "execution_count": null,
      "outputs": [
        {
          "output_type": "execute_result",
          "data": {
            "text/plain": [
              "2"
            ]
          },
          "metadata": {},
          "execution_count": 6
        }
      ]
    },
    {
      "cell_type": "code",
      "source": [
        "def __conta_ataques_diagonais(VT):\n",
        "    '''\n",
        "    Função que recebe um Vetor-Tabuleiro e\n",
        "    retorna o número de pares de rainhas se\n",
        "    atacando mutuamente nas diagonais.\n",
        "    '''\n",
        "    ataques = 0\n",
        "    N = len(VT)\n",
        "\n",
        "    for col1 in range(N):\n",
        "        lin1 = VT[col1]\n",
        "        for col2 in range(col1+1, N):\n",
        "            lin2 = VT[col2]\n",
        "\n",
        "            # diferenças entre as linhas e colunas\n",
        "            d1 = lin1-col1\n",
        "            d2 = lin2-col2\n",
        "\n",
        "            # somas das linhas e colunas\n",
        "            s1 = lin1+col1\n",
        "            s2 = lin2+col2\n",
        "\n",
        "            # condições para ataques nas diagonais\n",
        "            if d1==d2 or s1==s2:\n",
        "                ataques +=1\n",
        "                #print(f'({lin1},{col1+1}) ({lin2},{col2+1}) -->', ataques,\n",
        "                #      '<--', f'  -({d1:2},{d2:2})  +({s1:2},{s2:2})')\n",
        "\n",
        "    return ataques"
      ],
      "metadata": {
        "id": "7F0jjrJosqgu"
      },
      "execution_count": 7,
      "outputs": []
    },
    {
      "cell_type": "code",
      "source": [
        "converte_tabuleiro(VT)"
      ],
      "metadata": {
        "colab": {
          "base_uri": "https://localhost:8080/"
        },
        "id": "ICrKqYbhkSQ1",
        "outputId": "7638d5ec-cab6-440d-bcfa-e2fd9839e269"
      },
      "execution_count": null,
      "outputs": [
        {
          "output_type": "execute_result",
          "data": {
            "text/plain": [
              "[[0, 0, 0, 0, 0, 0, 0, 0],\n",
              " [0, 0, 1, 0, 0, 0, 0, 0],\n",
              " [0, 0, 0, 0, 1, 0, 0, 0],\n",
              " [1, 0, 0, 0, 0, 0, 0, 1],\n",
              " [0, 0, 0, 0, 0, 0, 1, 0],\n",
              " [0, 0, 0, 0, 0, 0, 0, 0],\n",
              " [0, 0, 0, 1, 0, 1, 0, 0],\n",
              " [0, 1, 0, 0, 0, 0, 0, 0]]"
            ]
          },
          "metadata": {},
          "execution_count": 8
        }
      ]
    },
    {
      "cell_type": "code",
      "source": [
        "__conta_ataques_diagonais(VT)"
      ],
      "metadata": {
        "colab": {
          "base_uri": "https://localhost:8080/"
        },
        "id": "mQ_9ze4cuIMW",
        "outputId": "23daaf32-0e26-459f-9fec-019fb63097b2"
      },
      "execution_count": null,
      "outputs": [
        {
          "output_type": "execute_result",
          "data": {
            "text/plain": [
              "4"
            ]
          },
          "metadata": {},
          "execution_count": 9
        }
      ]
    },
    {
      "cell_type": "code",
      "source": [
        "def conta_ataques(VT):\n",
        "    '''\n",
        "    Função que recebe um Vetor-Tabuleiro e\n",
        "    retorna o número de pares de rainhas se\n",
        "    atacando mutuamente nas linhas e diagonais.\n",
        "    '''\n",
        "    ataques  = __conta_ataques_linhas(VT)\n",
        "\n",
        "    ataques += __conta_ataques_diagonais(VT)\n",
        "\n",
        "    return ataques"
      ],
      "metadata": {
        "id": "8cTwjPfivq75"
      },
      "execution_count": 8,
      "outputs": []
    },
    {
      "cell_type": "code",
      "source": [
        "VT = [1,2,3,4,5,6,7,8]"
      ],
      "metadata": {
        "id": "-BTM7X6FGKI3"
      },
      "execution_count": null,
      "outputs": []
    },
    {
      "cell_type": "code",
      "source": [
        "conta_ataques(VT)"
      ],
      "metadata": {
        "colab": {
          "base_uri": "https://localhost:8080/"
        },
        "id": "HiEykhZTuQEX",
        "outputId": "bbbd4ca5-5b1d-4b61-d03a-38a0e78d3fed"
      },
      "execution_count": 9,
      "outputs": [
        {
          "output_type": "execute_result",
          "data": {
            "text/plain": [
              "6"
            ]
          },
          "metadata": {},
          "execution_count": 9
        }
      ]
    },
    {
      "cell_type": "markdown",
      "source": [
        "### Gera vizinhos"
      ],
      "metadata": {
        "id": "ZHbNTMeCFlGJ"
      }
    },
    {
      "cell_type": "code",
      "source": [
        "def gera_vizinhos(VT):\n",
        "    '''\n",
        "    Gera todos os vizinhos possíveis,\n",
        "    variando uma rainha de cada vez.\n",
        "    '''\n",
        "    N = len(VT)\n",
        "    for col in range(N):\n",
        "        for lin in range(N):\n",
        "            # se nao existe rainha naquela linha,\n",
        "            # entao gera estado vizinho.\n",
        "            linha = lin+1\n",
        "            if linha != VT[col]:\n",
        "                vizinho   = VT.copy()\n",
        "                vizinho[col] = linha\n",
        "\n",
        "                yield vizinho\n"
      ],
      "metadata": {
        "id": "_gy9N3w4pl_x"
      },
      "execution_count": 11,
      "outputs": []
    },
    {
      "cell_type": "markdown",
      "source": [
        "### Gera tuplas custos"
      ],
      "metadata": {
        "id": "sCLe99jUFrRp"
      }
    },
    {
      "cell_type": "code",
      "source": [
        "def gera_tuplas_custos(Populacao):\n",
        "    '''\n",
        "    Gera tuplas com os custos de todos os individuos da populacao.\n",
        "    '''\n",
        "    TuplasCustos = []\n",
        "    for individuo in Populacao:\n",
        "        ataques = conta_ataques(individuo)\n",
        "\n",
        "        TuplasCustos += [(ataques, individuo)]\n",
        "\n",
        "    return TuplasCustos\n"
      ],
      "metadata": {
        "id": "jl3DcYaapTiP"
      },
      "execution_count": 12,
      "outputs": []
    },
    {
      "cell_type": "code",
      "source": [
        "Populacao = gera_vizinhos(VT)\n",
        "Tuplas = gera_tuplas_custos(Populacao)\n",
        "Tuplas"
      ],
      "metadata": {
        "id": "ZfEiuC64sB5M",
        "colab": {
          "base_uri": "https://localhost:8080/"
        },
        "outputId": "2bbca0b2-3b7e-43dd-9a04-6038509278ca"
      },
      "execution_count": 14,
      "outputs": [
        {
          "output_type": "execute_result",
          "data": {
            "text/plain": [
              "[(3, array([1, 8, 2, 7, 3, 7, 5, 4])),\n",
              " (5, array([2, 8, 2, 7, 3, 7, 5, 4])),\n",
              " (4, array([3, 8, 2, 7, 3, 7, 5, 4])),\n",
              " (4, array([5, 8, 2, 7, 3, 7, 5, 4])),\n",
              " (3, array([6, 8, 2, 7, 3, 7, 5, 4])),\n",
              " (7, array([7, 8, 2, 7, 3, 7, 5, 4])),\n",
              " (4, array([8, 8, 2, 7, 3, 7, 5, 4])),\n",
              " (7, array([4, 1, 2, 7, 3, 7, 5, 4])),\n",
              " (7, array([4, 2, 2, 7, 3, 7, 5, 4])),\n",
              " (10, array([4, 3, 2, 7, 3, 7, 5, 4])),\n",
              " (8, array([4, 4, 2, 7, 3, 7, 5, 4])),\n",
              " (9, array([4, 5, 2, 7, 3, 7, 5, 4])),\n",
              " (7, array([4, 6, 2, 7, 3, 7, 5, 4])),\n",
              " (8, array([4, 7, 2, 7, 3, 7, 5, 4])),\n",
              " (7, array([4, 8, 1, 7, 3, 7, 5, 4])),\n",
              " (6, array([4, 8, 3, 7, 3, 7, 5, 4])),\n",
              " (8, array([4, 8, 4, 7, 3, 7, 5, 4])),\n",
              " (7, array([4, 8, 5, 7, 3, 7, 5, 4])),\n",
              " (7, array([4, 8, 6, 7, 3, 7, 5, 4])),\n",
              " (8, array([4, 8, 7, 7, 3, 7, 5, 4])),\n",
              " (7, array([4, 8, 8, 7, 3, 7, 5, 4])),\n",
              " (6, array([4, 8, 2, 1, 3, 7, 5, 4])),\n",
              " (7, array([4, 8, 2, 2, 3, 7, 5, 4])),\n",
              " (6, array([4, 8, 2, 3, 3, 7, 5, 4])),\n",
              " (7, array([4, 8, 2, 4, 3, 7, 5, 4])),\n",
              " (6, array([4, 8, 2, 5, 3, 7, 5, 4])),\n",
              " (5, array([4, 8, 2, 6, 3, 7, 5, 4])),\n",
              " (7, array([4, 8, 2, 8, 3, 7, 5, 4])),\n",
              " (6, array([4, 8, 2, 7, 1, 7, 5, 4])),\n",
              " (6, array([4, 8, 2, 7, 2, 7, 5, 4])),\n",
              " (8, array([4, 8, 2, 7, 4, 7, 5, 4])),\n",
              " (7, array([4, 8, 2, 7, 5, 7, 5, 4])),\n",
              " (7, array([4, 8, 2, 7, 6, 7, 5, 4])),\n",
              " (9, array([4, 8, 2, 7, 7, 7, 5, 4])),\n",
              " (9, array([4, 8, 2, 7, 8, 7, 5, 4])),\n",
              " (5, array([4, 8, 2, 7, 3, 1, 5, 4])),\n",
              " (8, array([4, 8, 2, 7, 3, 2, 5, 4])),\n",
              " (6, array([4, 8, 2, 7, 3, 3, 5, 4])),\n",
              " (10, array([4, 8, 2, 7, 3, 4, 5, 4])),\n",
              " (8, array([4, 8, 2, 7, 3, 5, 5, 4])),\n",
              " (7, array([4, 8, 2, 7, 3, 6, 5, 4])),\n",
              " (6, array([4, 8, 2, 7, 3, 8, 5, 4])),\n",
              " (5, array([4, 8, 2, 7, 3, 7, 1, 4])),\n",
              " (5, array([4, 8, 2, 7, 3, 7, 2, 4])),\n",
              " (7, array([4, 8, 2, 7, 3, 7, 3, 4])),\n",
              " (7, array([4, 8, 2, 7, 3, 7, 4, 4])),\n",
              " (6, array([4, 8, 2, 7, 3, 7, 6, 4])),\n",
              " (6, array([4, 8, 2, 7, 3, 7, 7, 4])),\n",
              " (6, array([4, 8, 2, 7, 3, 7, 8, 4])),\n",
              " (4, array([4, 8, 2, 7, 3, 7, 5, 1])),\n",
              " (6, array([4, 8, 2, 7, 3, 7, 5, 2])),\n",
              " (6, array([4, 8, 2, 7, 3, 7, 5, 3])),\n",
              " (6, array([4, 8, 2, 7, 3, 7, 5, 5])),\n",
              " (6, array([4, 8, 2, 7, 3, 7, 5, 6])),\n",
              " (7, array([4, 8, 2, 7, 3, 7, 5, 7])),\n",
              " (5, array([4, 8, 2, 7, 3, 7, 5, 8]))]"
            ]
          },
          "metadata": {},
          "execution_count": 14
        }
      ]
    },
    {
      "cell_type": "code",
      "source": [
        "sorted(Tuplas, key=lambda k: k[0])"
      ],
      "metadata": {
        "colab": {
          "base_uri": "https://localhost:8080/"
        },
        "id": "awxLMBkosD-O",
        "outputId": "8123c4e6-5149-4f4d-85a8-af1104067b0b"
      },
      "execution_count": 15,
      "outputs": [
        {
          "output_type": "execute_result",
          "data": {
            "text/plain": [
              "[(3, array([1, 8, 2, 7, 3, 7, 5, 4])),\n",
              " (3, array([6, 8, 2, 7, 3, 7, 5, 4])),\n",
              " (4, array([3, 8, 2, 7, 3, 7, 5, 4])),\n",
              " (4, array([5, 8, 2, 7, 3, 7, 5, 4])),\n",
              " (4, array([8, 8, 2, 7, 3, 7, 5, 4])),\n",
              " (4, array([4, 8, 2, 7, 3, 7, 5, 1])),\n",
              " (5, array([2, 8, 2, 7, 3, 7, 5, 4])),\n",
              " (5, array([4, 8, 2, 6, 3, 7, 5, 4])),\n",
              " (5, array([4, 8, 2, 7, 3, 1, 5, 4])),\n",
              " (5, array([4, 8, 2, 7, 3, 7, 1, 4])),\n",
              " (5, array([4, 8, 2, 7, 3, 7, 2, 4])),\n",
              " (5, array([4, 8, 2, 7, 3, 7, 5, 8])),\n",
              " (6, array([4, 8, 3, 7, 3, 7, 5, 4])),\n",
              " (6, array([4, 8, 2, 1, 3, 7, 5, 4])),\n",
              " (6, array([4, 8, 2, 3, 3, 7, 5, 4])),\n",
              " (6, array([4, 8, 2, 5, 3, 7, 5, 4])),\n",
              " (6, array([4, 8, 2, 7, 1, 7, 5, 4])),\n",
              " (6, array([4, 8, 2, 7, 2, 7, 5, 4])),\n",
              " (6, array([4, 8, 2, 7, 3, 3, 5, 4])),\n",
              " (6, array([4, 8, 2, 7, 3, 8, 5, 4])),\n",
              " (6, array([4, 8, 2, 7, 3, 7, 6, 4])),\n",
              " (6, array([4, 8, 2, 7, 3, 7, 7, 4])),\n",
              " (6, array([4, 8, 2, 7, 3, 7, 8, 4])),\n",
              " (6, array([4, 8, 2, 7, 3, 7, 5, 2])),\n",
              " (6, array([4, 8, 2, 7, 3, 7, 5, 3])),\n",
              " (6, array([4, 8, 2, 7, 3, 7, 5, 5])),\n",
              " (6, array([4, 8, 2, 7, 3, 7, 5, 6])),\n",
              " (7, array([7, 8, 2, 7, 3, 7, 5, 4])),\n",
              " (7, array([4, 1, 2, 7, 3, 7, 5, 4])),\n",
              " (7, array([4, 2, 2, 7, 3, 7, 5, 4])),\n",
              " (7, array([4, 6, 2, 7, 3, 7, 5, 4])),\n",
              " (7, array([4, 8, 1, 7, 3, 7, 5, 4])),\n",
              " (7, array([4, 8, 5, 7, 3, 7, 5, 4])),\n",
              " (7, array([4, 8, 6, 7, 3, 7, 5, 4])),\n",
              " (7, array([4, 8, 8, 7, 3, 7, 5, 4])),\n",
              " (7, array([4, 8, 2, 2, 3, 7, 5, 4])),\n",
              " (7, array([4, 8, 2, 4, 3, 7, 5, 4])),\n",
              " (7, array([4, 8, 2, 8, 3, 7, 5, 4])),\n",
              " (7, array([4, 8, 2, 7, 5, 7, 5, 4])),\n",
              " (7, array([4, 8, 2, 7, 6, 7, 5, 4])),\n",
              " (7, array([4, 8, 2, 7, 3, 6, 5, 4])),\n",
              " (7, array([4, 8, 2, 7, 3, 7, 3, 4])),\n",
              " (7, array([4, 8, 2, 7, 3, 7, 4, 4])),\n",
              " (7, array([4, 8, 2, 7, 3, 7, 5, 7])),\n",
              " (8, array([4, 4, 2, 7, 3, 7, 5, 4])),\n",
              " (8, array([4, 7, 2, 7, 3, 7, 5, 4])),\n",
              " (8, array([4, 8, 4, 7, 3, 7, 5, 4])),\n",
              " (8, array([4, 8, 7, 7, 3, 7, 5, 4])),\n",
              " (8, array([4, 8, 2, 7, 4, 7, 5, 4])),\n",
              " (8, array([4, 8, 2, 7, 3, 2, 5, 4])),\n",
              " (8, array([4, 8, 2, 7, 3, 5, 5, 4])),\n",
              " (9, array([4, 5, 2, 7, 3, 7, 5, 4])),\n",
              " (9, array([4, 8, 2, 7, 7, 7, 5, 4])),\n",
              " (9, array([4, 8, 2, 7, 8, 7, 5, 4])),\n",
              " (10, array([4, 3, 2, 7, 3, 7, 5, 4])),\n",
              " (10, array([4, 8, 2, 7, 3, 4, 5, 4]))]"
            ]
          },
          "metadata": {},
          "execution_count": 15
        }
      ]
    },
    {
      "cell_type": "markdown",
      "source": [
        "## Funções Auxiliares - AG"
      ],
      "metadata": {
        "id": "3tg4XhiiHrNG"
      }
    },
    {
      "cell_type": "markdown",
      "source": [
        "### Mutação"
      ],
      "metadata": {
        "id": "uUcQwNvpFzlp"
      }
    },
    {
      "cell_type": "code",
      "source": [
        "def mutacao(VT, p_mutacao=0.30):\n",
        "\n",
        "    VT_mutated = VT.copy()\n",
        "\n",
        "    N = len(VT)\n",
        "    p = np.random.rand()\n",
        "\n",
        "    if p < p_mutacao:\n",
        "        col   = np.random.randint(0,N)    # indice da coluna (base-0)\n",
        "        linha = np.random.randint(1,N+1)  # valor da linha   (base-1)\n",
        "\n",
        "        VT_mutated[col] = linha\n",
        "        #print(col+1, linha)\n",
        "\n",
        "    return VT_mutated"
      ],
      "metadata": {
        "id": "nUXJydQWsSud"
      },
      "execution_count": 16,
      "outputs": []
    },
    {
      "cell_type": "code",
      "source": [
        "VT"
      ],
      "metadata": {
        "colab": {
          "base_uri": "https://localhost:8080/"
        },
        "id": "dytJXCijpcOE",
        "outputId": "26f3626d-a89b-4af5-cf8f-5ab65d0f2c51"
      },
      "execution_count": 17,
      "outputs": [
        {
          "output_type": "execute_result",
          "data": {
            "text/plain": [
              "array([4, 8, 2, 7, 3, 7, 5, 4])"
            ]
          },
          "metadata": {},
          "execution_count": 17
        }
      ]
    },
    {
      "cell_type": "code",
      "source": [
        "VT2 = mutacao(VT)\n",
        "VT, VT2, VT != VT2"
      ],
      "metadata": {
        "colab": {
          "base_uri": "https://localhost:8080/"
        },
        "id": "6GIV1pitubsc",
        "outputId": "9d4e2328-c5df-4e69-83b6-d9088d72e194"
      },
      "execution_count": 18,
      "outputs": [
        {
          "output_type": "execute_result",
          "data": {
            "text/plain": [
              "(array([4, 8, 2, 7, 3, 7, 5, 4]),\n",
              " array([4, 8, 2, 2, 3, 7, 5, 4]),\n",
              " array([False, False, False,  True, False, False, False, False]))"
            ]
          },
          "metadata": {},
          "execution_count": 18
        }
      ]
    },
    {
      "cell_type": "markdown",
      "source": [
        "### Crossover"
      ],
      "metadata": {
        "id": "q7q7CoFuF1w5"
      }
    },
    {
      "cell_type": "code",
      "source": [
        "def crossover(Parent1, Parent2):\n",
        "\n",
        "    N = len(Parent1)\n",
        "\n",
        "    # ponto de corte\n",
        "    c = np.random.randint(1, N-1)\n",
        "\n",
        "    # crossover no ponto de corte\n",
        "    # gerando dois filhos\n",
        "    child1 = list(Parent1[:c]) + list(Parent2[c:])\n",
        "    child2 = list(Parent2[:c]) + list(Parent1[c:])\n",
        "\n",
        "    return child1, child2"
      ],
      "metadata": {
        "id": "3sIPZcHxudG8"
      },
      "execution_count": 45,
      "outputs": []
    },
    {
      "cell_type": "code",
      "source": [
        "VT1 = [1,1,1,1,1,1,1,1]\n",
        "VT2 = [2,2,2,2,2,2,2,2]"
      ],
      "metadata": {
        "id": "N0mrZDKpytgY"
      },
      "execution_count": 46,
      "outputs": []
    },
    {
      "cell_type": "code",
      "source": [
        "crossover(VT1,VT2)"
      ],
      "metadata": {
        "colab": {
          "base_uri": "https://localhost:8080/"
        },
        "id": "BmFkqSaVyluH",
        "outputId": "fec684f3-5b29-4a50-ee7e-62e3ab88b58f"
      },
      "execution_count": 47,
      "outputs": [
        {
          "output_type": "execute_result",
          "data": {
            "text/plain": [
              "([1, 1, 1, 1, 2, 2, 2, 2], [2, 2, 2, 2, 1, 1, 1, 1])"
            ]
          },
          "metadata": {},
          "execution_count": 47
        }
      ]
    },
    {
      "cell_type": "markdown",
      "source": [
        "### Seleciona pais"
      ],
      "metadata": {
        "id": "1aG6C4zLF4kp"
      }
    },
    {
      "cell_type": "code",
      "source": [
        "# Selecao por torneio\n",
        "def selecao(Populacao):\n",
        "    Candidato1 = random.choice(Populacao)\n",
        "    Candidato2 = random.choice(Populacao)\n",
        "\n",
        "    a1 = conta_ataques(Candidato1)\n",
        "    a2 = conta_ataques(Candidato2)\n",
        "    #print(a1,a2)\n",
        "\n",
        "    # eleito o candidato com menor custo\n",
        "    eleito = Candidato1 if a1<=a2 else Candidato2\n",
        "\n",
        "    return eleito\n"
      ],
      "metadata": {
        "id": "USJeP4eIy0qX"
      },
      "execution_count": 38,
      "outputs": []
    },
    {
      "cell_type": "code",
      "source": [
        "selecao([VT1,VT2],VT)"
      ],
      "metadata": {
        "colab": {
          "base_uri": "https://localhost:8080/"
        },
        "id": "oYMetv5Yzfsl",
        "outputId": "efa959b8-6b22-4fca-ca58-b20e67d72659"
      },
      "execution_count": 26,
      "outputs": [
        {
          "output_type": "execute_result",
          "data": {
            "text/plain": [
              "[1, 1, 1, 1, 1, 1, 1, 1]"
            ]
          },
          "metadata": {},
          "execution_count": 26
        }
      ]
    },
    {
      "cell_type": "markdown",
      "source": [
        "### Gera Indivíduo"
      ],
      "metadata": {
        "id": "EnkejvpMJjh5"
      }
    },
    {
      "cell_type": "code",
      "source": [
        "def gera_individuo(n_cols):\n",
        "    # individuo é um Vetor (N) em que cada posicação\n",
        "    # representa uma coluna indicando as respectivas\n",
        "    # linhas ocupadas pelas rainhas em um tabuleiro (NxN).\n",
        "\n",
        "    # VT = [low, high) x n_cols\n",
        "\n",
        "    VT = np.random.randint(low=1, high=n_cols+1, size=n_cols)\n",
        "    return VT"
      ],
      "metadata": {
        "id": "rjDoVFiFJq82"
      },
      "execution_count": 27,
      "outputs": []
    },
    {
      "cell_type": "code",
      "source": [
        "N=8\n",
        "gera_individuo(N)"
      ],
      "metadata": {
        "colab": {
          "base_uri": "https://localhost:8080/"
        },
        "id": "60EZhGMgNdcG",
        "outputId": "32d7bd15-8b97-412a-9eac-5fc815442857"
      },
      "execution_count": 28,
      "outputs": [
        {
          "output_type": "execute_result",
          "data": {
            "text/plain": [
              "array([7, 2, 5, 7, 4, 6, 1, 5])"
            ]
          },
          "metadata": {},
          "execution_count": 28
        }
      ]
    },
    {
      "cell_type": "markdown",
      "source": [
        "### Gera População"
      ],
      "metadata": {
        "id": "0s9cB_ZmJ8iI"
      }
    },
    {
      "cell_type": "code",
      "source": [
        "def gera_populacao_inicial(N, tam_pop):\n",
        "    # N:       tamanho do tabuleiro (NxN)\n",
        "    # tam_pop: tamanho da população\n",
        "    populacao = []\n",
        "    for _ in range(tam_pop):\n",
        "        individuo = gera_individuo(N)\n",
        "\n",
        "        populacao.append(individuo)\n",
        "\n",
        "    return populacao"
      ],
      "metadata": {
        "id": "bHOtoOudJmHU"
      },
      "execution_count": 29,
      "outputs": []
    },
    {
      "cell_type": "code",
      "source": [
        "N = 8\n",
        "tam_pop = 100\n",
        "gera_populacao_inicial(N, tam_pop)"
      ],
      "metadata": {
        "colab": {
          "base_uri": "https://localhost:8080/"
        },
        "id": "lcbFEfWDPM4y",
        "outputId": "9be1c8b4-8dc6-42b8-a19b-260a3bbca961"
      },
      "execution_count": 42,
      "outputs": [
        {
          "output_type": "execute_result",
          "data": {
            "text/plain": [
              "[array([5, 5, 7, 8, 4, 8, 2, 7]),\n",
              " array([2, 8, 6, 6, 7, 5, 3, 7]),\n",
              " array([5, 8, 6, 6, 2, 8, 2, 2]),\n",
              " array([1, 8, 7, 4, 7, 1, 3, 8]),\n",
              " array([5, 1, 4, 4, 1, 5, 1, 8]),\n",
              " array([1, 4, 2, 7, 1, 1, 3, 7]),\n",
              " array([3, 8, 5, 6, 3, 8, 3, 4]),\n",
              " array([3, 3, 2, 8, 1, 1, 1, 6]),\n",
              " array([4, 5, 8, 6, 8, 3, 5, 5]),\n",
              " array([8, 6, 8, 6, 4, 1, 5, 5]),\n",
              " array([1, 5, 7, 4, 2, 3, 5, 4]),\n",
              " array([6, 5, 8, 6, 8, 7, 5, 5]),\n",
              " array([5, 7, 1, 8, 7, 3, 1, 2]),\n",
              " array([3, 4, 6, 4, 1, 1, 6, 4]),\n",
              " array([8, 7, 7, 2, 7, 5, 1, 4]),\n",
              " array([7, 8, 6, 2, 8, 2, 3, 5]),\n",
              " array([1, 2, 3, 3, 3, 6, 6, 5]),\n",
              " array([6, 2, 4, 6, 3, 6, 1, 4]),\n",
              " array([3, 2, 7, 1, 4, 4, 1, 2]),\n",
              " array([6, 2, 6, 3, 2, 4, 3, 2]),\n",
              " array([4, 7, 6, 2, 4, 4, 3, 3]),\n",
              " array([4, 4, 4, 2, 1, 1, 5, 6]),\n",
              " array([4, 6, 3, 5, 4, 4, 8, 2]),\n",
              " array([3, 2, 4, 4, 6, 2, 6, 5]),\n",
              " array([7, 5, 3, 7, 6, 3, 4, 6]),\n",
              " array([8, 6, 8, 5, 1, 4, 1, 6]),\n",
              " array([3, 2, 5, 3, 1, 4, 7, 3]),\n",
              " array([8, 8, 4, 5, 5, 2, 8, 4]),\n",
              " array([2, 1, 8, 1, 1, 4, 5, 3]),\n",
              " array([6, 8, 5, 1, 2, 3, 8, 7]),\n",
              " array([5, 8, 3, 4, 7, 5, 3, 6]),\n",
              " array([4, 3, 5, 2, 1, 8, 3, 7]),\n",
              " array([4, 8, 8, 2, 1, 3, 6, 2]),\n",
              " array([5, 4, 4, 4, 6, 4, 6, 5]),\n",
              " array([4, 8, 8, 5, 6, 5, 7, 4]),\n",
              " array([7, 7, 5, 4, 5, 4, 8, 5]),\n",
              " array([4, 3, 8, 3, 1, 6, 8, 2]),\n",
              " array([7, 6, 7, 3, 7, 1, 4, 8]),\n",
              " array([2, 1, 1, 2, 8, 8, 1, 6]),\n",
              " array([4, 8, 3, 1, 7, 1, 2, 4]),\n",
              " array([8, 4, 2, 5, 3, 2, 4, 8]),\n",
              " array([4, 2, 3, 1, 3, 7, 2, 4]),\n",
              " array([7, 5, 1, 6, 6, 6, 8, 1]),\n",
              " array([7, 1, 3, 1, 6, 3, 1, 6]),\n",
              " array([7, 5, 8, 7, 6, 4, 2, 7]),\n",
              " array([5, 2, 1, 2, 2, 7, 4, 6]),\n",
              " array([6, 7, 2, 6, 3, 2, 5, 7]),\n",
              " array([2, 6, 8, 5, 4, 6, 5, 2]),\n",
              " array([1, 3, 7, 4, 8, 4, 2, 5]),\n",
              " array([3, 5, 4, 5, 8, 7, 7, 2]),\n",
              " array([8, 2, 6, 3, 8, 1, 1, 1]),\n",
              " array([5, 2, 8, 8, 7, 5, 8, 3]),\n",
              " array([7, 4, 7, 6, 7, 8, 6, 8]),\n",
              " array([7, 5, 5, 4, 2, 2, 3, 7]),\n",
              " array([8, 8, 5, 6, 4, 5, 6, 5]),\n",
              " array([3, 4, 8, 6, 4, 2, 3, 6]),\n",
              " array([5, 6, 1, 3, 5, 4, 3, 7]),\n",
              " array([7, 1, 3, 4, 4, 1, 8, 2]),\n",
              " array([6, 8, 4, 4, 4, 7, 5, 2]),\n",
              " array([2, 2, 8, 8, 4, 3, 4, 4]),\n",
              " array([4, 8, 3, 5, 2, 7, 5, 8]),\n",
              " array([1, 5, 2, 6, 1, 5, 6, 1]),\n",
              " array([4, 4, 3, 6, 3, 2, 5, 7]),\n",
              " array([1, 5, 2, 7, 1, 7, 2, 1]),\n",
              " array([1, 3, 4, 5, 6, 8, 8, 7]),\n",
              " array([3, 6, 1, 8, 2, 7, 5, 4]),\n",
              " array([7, 1, 6, 7, 1, 6, 3, 1]),\n",
              " array([5, 5, 2, 3, 6, 1, 7, 7]),\n",
              " array([1, 5, 7, 2, 4, 8, 8, 3]),\n",
              " array([5, 2, 7, 4, 4, 3, 1, 2]),\n",
              " array([3, 4, 7, 3, 7, 4, 8, 3]),\n",
              " array([2, 5, 3, 2, 7, 3, 3, 7]),\n",
              " array([4, 5, 2, 4, 6, 2, 6, 2]),\n",
              " array([8, 2, 3, 5, 3, 5, 3, 5]),\n",
              " array([5, 8, 3, 3, 1, 2, 5, 3]),\n",
              " array([6, 2, 7, 7, 5, 2, 2, 7]),\n",
              " array([1, 5, 6, 4, 2, 8, 5, 8]),\n",
              " array([1, 6, 3, 1, 1, 7, 4, 5]),\n",
              " array([6, 2, 8, 8, 3, 2, 2, 5]),\n",
              " array([2, 5, 7, 7, 8, 7, 2, 6]),\n",
              " array([4, 1, 1, 7, 4, 7, 3, 7]),\n",
              " array([8, 7, 2, 3, 4, 3, 3, 2]),\n",
              " array([5, 5, 4, 4, 2, 8, 4, 7]),\n",
              " array([5, 5, 8, 8, 4, 1, 5, 7]),\n",
              " array([8, 5, 1, 5, 6, 4, 5, 1]),\n",
              " array([6, 2, 7, 7, 5, 7, 3, 2]),\n",
              " array([7, 5, 5, 4, 4, 1, 2, 1]),\n",
              " array([4, 7, 4, 4, 5, 1, 8, 3]),\n",
              " array([1, 3, 3, 6, 4, 8, 3, 6]),\n",
              " array([6, 4, 3, 7, 7, 4, 6, 8]),\n",
              " array([7, 1, 7, 6, 1, 5, 5, 5]),\n",
              " array([8, 6, 5, 4, 3, 8, 6, 6]),\n",
              " array([1, 2, 7, 2, 4, 8, 7, 8]),\n",
              " array([8, 6, 2, 4, 5, 4, 5, 1]),\n",
              " array([4, 6, 6, 8, 4, 1, 5, 2]),\n",
              " array([1, 7, 7, 6, 7, 1, 5, 6]),\n",
              " array([6, 6, 8, 5, 8, 3, 6, 3]),\n",
              " array([6, 2, 3, 7, 8, 7, 1, 3]),\n",
              " array([3, 6, 6, 7, 4, 6, 6, 5]),\n",
              " array([3, 7, 4, 1, 8, 5, 1, 4])]"
            ]
          },
          "metadata": {},
          "execution_count": 42
        }
      ]
    },
    {
      "cell_type": "markdown",
      "source": [
        "## Algoritmo Genético - Implementação"
      ],
      "metadata": {
        "id": "l5_i1oumHeHq"
      }
    },
    {
      "cell_type": "code",
      "source": [
        "# 1) Randomly initialize populations p\n",
        "# 2) Compute fitness of population\n",
        "# 3) Until convergence repeat:\n",
        "#       a) Select parents from population\n",
        "#       b) Crossover and generate new population\n",
        "#       c) Perform mutation on new population\n",
        "# 4) Calculate fitness for new population"
      ],
      "metadata": {
        "id": "2Y_2nRRkH1sI"
      },
      "execution_count": null,
      "outputs": []
    },
    {
      "cell_type": "code",
      "source": [
        "def algoritmo_genetico(N, tam_pop, num_geracoes, taxa_mutacao):\n",
        "    solucoes_encontradas = 0\n",
        "    geracoes_necessarias = []\n",
        "\n",
        "    for i in range(tam_pop):  # Gerar 100 exemplos\n",
        "        Populacao = gera_populacao_inicial(N, tam_pop)\n",
        "        TuplasCustos = gera_tuplas_custos(Populacao)\n",
        "        Populacao = [t[1] for t in sorted(TuplasCustos, key=lambda x: x[0])]  # Ordena pela fitness\n",
        "\n",
        "        print(f\"tam_pop atual: {i}\")\n",
        "\n",
        "        for geracao in range(num_geracoes):\n",
        "            nova_populacao = []\n",
        "            while len(nova_populacao) < tam_pop:\n",
        "                pai1 = selecao(Populacao)\n",
        "                pai2 = selecao(Populacao)\n",
        "                filho1, filho2 = crossover(pai1, pai2)\n",
        "                filho1 = mutacao(filho1, taxa_mutacao)\n",
        "                filho2 = mutacao(filho2, taxa_mutacao)\n",
        "                nova_populacao.extend([filho1, filho2])\n",
        "\n",
        "            TuplasCustos = gera_tuplas_custos(nova_populacao)\n",
        "            nova_populacao = [t[1] for t in sorted(TuplasCustos, key=lambda x: x[0])]  # Ordena pela fitness\n",
        "            melhor_fitness_atual = TuplasCustos[0][0]\n",
        "\n",
        "            if melhor_fitness_atual == 0:\n",
        "                solucoes_encontradas += 1\n",
        "                geracoes_necessarias.append(geracao + 1)\n",
        "                break\n",
        "            Populacao = nova_populacao\n",
        "\n",
        "        if melhor_fitness_atual > 0:\n",
        "            geracoes_necessarias.append(num_geracoes)  # Máximo se não encontrar solução\n",
        "\n",
        "    percentual_resolvidos = (solucoes_encontradas / 100.0) * 100\n",
        "    custo_medio = sum(geracoes_necessarias) / len(geracoes_necessarias)\n",
        "    return percentual_resolvidos, custo_medio\n",
        "\n"
      ],
      "metadata": {
        "id": "-9BG1wnoJZTI"
      },
      "execution_count": 48,
      "outputs": []
    },
    {
      "cell_type": "code",
      "source": [
        "# Configurações do algoritmo\n",
        "N = 8  # tamanho do tabuleiro 8 x 8\n",
        "tam_pop = 100  # tamanho da população\n",
        "num_geracoes = 1000  # número máximo de gerações\n",
        "taxa_mutacao = 0.1  # taxa de mutação\n",
        "\n",
        "percentual_resolvidos, custo_medio = algoritmo_genetico(N, tam_pop, num_geracoes, taxa_mutacao)\n",
        "print(f\"Percentual de problemas resolvidos: {percentual_resolvidos}%\")\n",
        "print(f\"Custo médio da busca (em gerações): {custo_medio}\")"
      ],
      "metadata": {
        "id": "E3CXvd9mGeAC",
        "outputId": "508fbd30-555a-4b43-cf8b-0c6caeb73b5c",
        "colab": {
          "base_uri": "https://localhost:8080/"
        }
      },
      "execution_count": 50,
      "outputs": [
        {
          "output_type": "stream",
          "name": "stdout",
          "text": [
            "Percentual de problemas resolvidos: 55.00000000000001%\n",
            "Custo médio da busca (em gerações): 552.05\n"
          ]
        }
      ]
    }
  ]
}