{
  "nbformat": 4,
  "nbformat_minor": 0,
  "metadata": {
    "colab": {
      "provenance": [],
      "include_colab_link": true
    },
    "kernelspec": {
      "name": "python3",
      "display_name": "Python 3"
    },
    "language_info": {
      "name": "python"
    }
  },
  "cells": [
    {
      "cell_type": "markdown",
      "metadata": {
        "id": "view-in-github",
        "colab_type": "text"
      },
      "source": [
        "<a href=\"https://colab.research.google.com/github/abcardoso/ifes_ai/blob/main/IA_GeneticAlgorithm_8queens_Solucao.ipynb\" target=\"_parent\"><img src=\"https://colab.research.google.com/assets/colab-badge.svg\" alt=\"Open In Colab\"/></a>"
      ]
    },
    {
      "cell_type": "markdown",
      "source": [
        "Teste de implementação em phyton do Algoritmo Genético.\n",
        "Obs.:"
      ],
      "metadata": {
        "id": "n8AwNSzzRWZ5"
      }
    },
    {
      "cell_type": "markdown",
      "source": [
        "# Algoritmo Genético\n",
        "## Para o problema das 8 rainhas"
      ],
      "metadata": {
        "id": "hX_HwCvidpyR"
      }
    },
    {
      "cell_type": "markdown",
      "source": [
        "## Importações"
      ],
      "metadata": {
        "id": "JzA1EYj1HC76"
      }
    },
    {
      "cell_type": "code",
      "source": [
        "# Manipulação de dados\n",
        "import numpy as np\n",
        "#import pandas as pd\n",
        "\n",
        "# Geração de números aleatórios\n",
        "import random"
      ],
      "metadata": {
        "id": "XkS2WmGGHGN2"
      },
      "execution_count": 85,
      "outputs": []
    },
    {
      "cell_type": "code",
      "source": [
        "#VT = np.array([4,8,2,7,3,1,5,6])\n",
        "VT = np.array([4,8,2,7,3,7,5,4])\n",
        "\n",
        "VT"
      ],
      "metadata": {
        "colab": {
          "base_uri": "https://localhost:8080/"
        },
        "id": "tF1W659hMnFE",
        "outputId": "245f2e87-57bc-489c-dd05-49f0dbb6ba36"
      },
      "execution_count": 86,
      "outputs": [
        {
          "output_type": "execute_result",
          "data": {
            "text/plain": [
              "array([4, 8, 2, 7, 3, 7, 5, 4])"
            ]
          },
          "metadata": {},
          "execution_count": 86
        }
      ]
    },
    {
      "cell_type": "markdown",
      "source": [
        "## Funções Auxiliares - Problema"
      ],
      "metadata": {
        "id": "2nnjfm3TeGvW"
      }
    },
    {
      "cell_type": "markdown",
      "source": [
        "### Converte Vetor em Tabuleiro"
      ],
      "metadata": {
        "id": "p_EHH-ACFL53"
      }
    },
    {
      "cell_type": "code",
      "source": [
        "def converte_tabuleiro(VT):\n",
        "    '''\n",
        "    Recebe um vetor representando um tabuleiro\n",
        "    com N rainhas, uma por coluna e retorna\n",
        "    uma lista de lista de 0 e 1 representando\n",
        "    um tabuleiro com as rainhas.\n",
        "    '''\n",
        "    N = len(VT)\n",
        "\n",
        "    L = [0]*N\n",
        "    T = []\n",
        "    for i in range(N):\n",
        "        T += [L.copy()]\n",
        "\n",
        "    for lin in range(N):\n",
        "        for col in range(N):\n",
        "            if lin+1 == VT[col]:\n",
        "                T[lin][col] = 1\n",
        "\n",
        "    return T"
      ],
      "metadata": {
        "id": "8eO_wG3Enx64"
      },
      "execution_count": 87,
      "outputs": []
    },
    {
      "cell_type": "code",
      "source": [
        "converte_tabuleiro(VT)"
      ],
      "metadata": {
        "colab": {
          "base_uri": "https://localhost:8080/"
        },
        "id": "JA4nMhpNoHR1",
        "outputId": "a2392446-e40b-42cb-822c-1c50e1fb55ac"
      },
      "execution_count": 88,
      "outputs": [
        {
          "output_type": "execute_result",
          "data": {
            "text/plain": [
              "[[0, 0, 0, 0, 0, 0, 0, 0],\n",
              " [0, 0, 1, 0, 0, 0, 0, 0],\n",
              " [0, 0, 0, 0, 1, 0, 0, 0],\n",
              " [1, 0, 0, 0, 0, 0, 0, 1],\n",
              " [0, 0, 0, 0, 0, 0, 1, 0],\n",
              " [0, 0, 0, 0, 0, 0, 0, 0],\n",
              " [0, 0, 0, 1, 0, 1, 0, 0],\n",
              " [0, 1, 0, 0, 0, 0, 0, 0]]"
            ]
          },
          "metadata": {},
          "execution_count": 88
        }
      ]
    },
    {
      "cell_type": "markdown",
      "source": [
        "### Calcula custo (Fitness)"
      ],
      "metadata": {
        "id": "GUPKonQ4FVCZ"
      }
    },
    {
      "cell_type": "code",
      "source": [
        "def __conta_ataques_linhas(VT):\n",
        "    '''\n",
        "    Função que recebe um Vetor-Tabuleiro e\n",
        "    retorna o número de pares de rainhas se\n",
        "    atacando mutuamente nas linhas.\n",
        "    '''\n",
        "    ataques = 0\n",
        "    N = len(VT)\n",
        "    for col1 in range(N):\n",
        "        lin1 = VT[col1]\n",
        "        for col2 in range(col1+1, N):\n",
        "            lin2 = VT[col2]\n",
        "            if lin1==lin2:\n",
        "                ataques +=1\n",
        "\n",
        "    return ataques"
      ],
      "metadata": {
        "id": "D25sedCPrrcg"
      },
      "execution_count": 89,
      "outputs": []
    },
    {
      "cell_type": "code",
      "source": [
        "__conta_ataques_linhas(VT)"
      ],
      "metadata": {
        "colab": {
          "base_uri": "https://localhost:8080/"
        },
        "id": "ippPbtD5sodj",
        "outputId": "9fb8394f-3cd7-4d7e-ea9f-a386867f1069"
      },
      "execution_count": 90,
      "outputs": [
        {
          "output_type": "execute_result",
          "data": {
            "text/plain": [
              "2"
            ]
          },
          "metadata": {},
          "execution_count": 90
        }
      ]
    },
    {
      "cell_type": "code",
      "source": [
        "def __conta_ataques_diagonais(VT):\n",
        "    '''\n",
        "    Função que recebe um Vetor-Tabuleiro e\n",
        "    retorna o número de pares de rainhas se\n",
        "    atacando mutuamente nas diagonais.\n",
        "    '''\n",
        "    ataques = 0\n",
        "    N = len(VT)\n",
        "\n",
        "    for col1 in range(N):\n",
        "        lin1 = VT[col1]\n",
        "        for col2 in range(col1+1, N):\n",
        "            lin2 = VT[col2]\n",
        "\n",
        "            # diferenças entre as linhas e colunas\n",
        "            d1 = lin1-col1\n",
        "            d2 = lin2-col2\n",
        "\n",
        "            # somas das linhas e colunas\n",
        "            s1 = lin1+col1\n",
        "            s2 = lin2+col2\n",
        "\n",
        "            # condições para ataques nas diagonais\n",
        "            if d1==d2 or s1==s2:\n",
        "                ataques +=1\n",
        "                #print(f'({lin1},{col1+1}) ({lin2},{col2+1}) -->', ataques,\n",
        "                #      '<--', f'  -({d1:2},{d2:2})  +({s1:2},{s2:2})')\n",
        "\n",
        "    return ataques"
      ],
      "metadata": {
        "id": "7F0jjrJosqgu"
      },
      "execution_count": 91,
      "outputs": []
    },
    {
      "cell_type": "code",
      "source": [
        "converte_tabuleiro(VT)"
      ],
      "metadata": {
        "colab": {
          "base_uri": "https://localhost:8080/"
        },
        "id": "ICrKqYbhkSQ1",
        "outputId": "bd47e45a-5230-4ace-deb8-871c949d5547"
      },
      "execution_count": 92,
      "outputs": [
        {
          "output_type": "execute_result",
          "data": {
            "text/plain": [
              "[[0, 0, 0, 0, 0, 0, 0, 0],\n",
              " [0, 0, 1, 0, 0, 0, 0, 0],\n",
              " [0, 0, 0, 0, 1, 0, 0, 0],\n",
              " [1, 0, 0, 0, 0, 0, 0, 1],\n",
              " [0, 0, 0, 0, 0, 0, 1, 0],\n",
              " [0, 0, 0, 0, 0, 0, 0, 0],\n",
              " [0, 0, 0, 1, 0, 1, 0, 0],\n",
              " [0, 1, 0, 0, 0, 0, 0, 0]]"
            ]
          },
          "metadata": {},
          "execution_count": 92
        }
      ]
    },
    {
      "cell_type": "code",
      "source": [
        "__conta_ataques_diagonais(VT)"
      ],
      "metadata": {
        "colab": {
          "base_uri": "https://localhost:8080/"
        },
        "id": "mQ_9ze4cuIMW",
        "outputId": "8629f73e-84f6-4ff7-e992-c1da5bb1bc6c"
      },
      "execution_count": 93,
      "outputs": [
        {
          "output_type": "execute_result",
          "data": {
            "text/plain": [
              "4"
            ]
          },
          "metadata": {},
          "execution_count": 93
        }
      ]
    },
    {
      "cell_type": "code",
      "source": [
        "def conta_ataques(VT):\n",
        "    '''\n",
        "    Função que recebe um Vetor-Tabuleiro e\n",
        "    retorna o número de pares de rainhas se\n",
        "    atacando mutuamente nas linhas e diagonais.\n",
        "    '''\n",
        "    ataques  = __conta_ataques_linhas(VT)\n",
        "\n",
        "    ataques += __conta_ataques_diagonais(VT)\n",
        "\n",
        "    return ataques"
      ],
      "metadata": {
        "id": "8cTwjPfivq75"
      },
      "execution_count": 94,
      "outputs": []
    },
    {
      "cell_type": "code",
      "source": [
        "VT = [1,2,3,4,5,6,7,8]"
      ],
      "metadata": {
        "id": "-BTM7X6FGKI3"
      },
      "execution_count": 95,
      "outputs": []
    },
    {
      "cell_type": "code",
      "source": [
        "conta_ataques(VT)"
      ],
      "metadata": {
        "colab": {
          "base_uri": "https://localhost:8080/"
        },
        "id": "HiEykhZTuQEX",
        "outputId": "1ac91e68-5d98-4190-ace9-1a81ea3dbea8"
      },
      "execution_count": 96,
      "outputs": [
        {
          "output_type": "execute_result",
          "data": {
            "text/plain": [
              "28"
            ]
          },
          "metadata": {},
          "execution_count": 96
        }
      ]
    },
    {
      "cell_type": "markdown",
      "source": [
        "### Gera vizinhos"
      ],
      "metadata": {
        "id": "ZHbNTMeCFlGJ"
      }
    },
    {
      "cell_type": "code",
      "source": [
        "def gera_vizinhos(VT):\n",
        "    '''\n",
        "    Gera todos os vizinhos possíveis,\n",
        "    variando uma rainha de cada vez.\n",
        "    '''\n",
        "    N = len(VT)\n",
        "    for col in range(N):\n",
        "        for lin in range(N):\n",
        "            # se nao existe rainha naquela linha,\n",
        "            # entao gera estado vizinho.\n",
        "            linha = lin+1\n",
        "            if linha != VT[col]:\n",
        "                vizinho   = VT.copy()\n",
        "                vizinho[col] = linha\n",
        "\n",
        "                yield vizinho\n"
      ],
      "metadata": {
        "id": "_gy9N3w4pl_x"
      },
      "execution_count": 97,
      "outputs": []
    },
    {
      "cell_type": "markdown",
      "source": [
        "### Gera tuplas custos"
      ],
      "metadata": {
        "id": "sCLe99jUFrRp"
      }
    },
    {
      "cell_type": "code",
      "source": [
        "def gera_tuplas_custos(Populacao):\n",
        "    '''\n",
        "    Gera tuplas com os custos de todos os individuos da populacao.\n",
        "    '''\n",
        "    TuplasCustos = []\n",
        "    for individuo in Populacao:\n",
        "        ataques = conta_ataques(individuo)\n",
        "\n",
        "        TuplasCustos += [(ataques, individuo)]\n",
        "\n",
        "    return TuplasCustos\n"
      ],
      "metadata": {
        "id": "jl3DcYaapTiP"
      },
      "execution_count": 98,
      "outputs": []
    },
    {
      "cell_type": "code",
      "source": [
        "Populacao = gera_vizinhos(VT)\n",
        "Tuplas = gera_tuplas_custos(Populacao)\n",
        "Tuplas"
      ],
      "metadata": {
        "id": "ZfEiuC64sB5M",
        "colab": {
          "base_uri": "https://localhost:8080/"
        },
        "outputId": "3c5347c9-112a-4b68-f189-7f2c05adc48f"
      },
      "execution_count": 99,
      "outputs": [
        {
          "output_type": "execute_result",
          "data": {
            "text/plain": [
              "[(22, [2, 2, 3, 4, 5, 6, 7, 8]),\n",
              " (23, [3, 2, 3, 4, 5, 6, 7, 8]),\n",
              " (22, [4, 2, 3, 4, 5, 6, 7, 8]),\n",
              " (23, [5, 2, 3, 4, 5, 6, 7, 8]),\n",
              " (22, [6, 2, 3, 4, 5, 6, 7, 8]),\n",
              " (23, [7, 2, 3, 4, 5, 6, 7, 8]),\n",
              " (22, [8, 2, 3, 4, 5, 6, 7, 8]),\n",
              " (22, [1, 1, 3, 4, 5, 6, 7, 8]),\n",
              " (22, [1, 3, 3, 4, 5, 6, 7, 8]),\n",
              " (23, [1, 4, 3, 4, 5, 6, 7, 8]),\n",
              " (22, [1, 5, 3, 4, 5, 6, 7, 8]),\n",
              " (23, [1, 6, 3, 4, 5, 6, 7, 8]),\n",
              " (22, [1, 7, 3, 4, 5, 6, 7, 8]),\n",
              " (23, [1, 8, 3, 4, 5, 6, 7, 8]),\n",
              " (23, [1, 2, 1, 4, 5, 6, 7, 8]),\n",
              " (22, [1, 2, 2, 4, 5, 6, 7, 8]),\n",
              " (22, [1, 2, 4, 4, 5, 6, 7, 8]),\n",
              " (23, [1, 2, 5, 4, 5, 6, 7, 8]),\n",
              " (22, [1, 2, 6, 4, 5, 6, 7, 8]),\n",
              " (23, [1, 2, 7, 4, 5, 6, 7, 8]),\n",
              " (22, [1, 2, 8, 4, 5, 6, 7, 8]),\n",
              " (22, [1, 2, 3, 1, 5, 6, 7, 8]),\n",
              " (23, [1, 2, 3, 2, 5, 6, 7, 8]),\n",
              " (22, [1, 2, 3, 3, 5, 6, 7, 8]),\n",
              " (22, [1, 2, 3, 5, 5, 6, 7, 8]),\n",
              " (23, [1, 2, 3, 6, 5, 6, 7, 8]),\n",
              " (22, [1, 2, 3, 7, 5, 6, 7, 8]),\n",
              " (23, [1, 2, 3, 8, 5, 6, 7, 8]),\n",
              " (23, [1, 2, 3, 4, 1, 6, 7, 8]),\n",
              " (22, [1, 2, 3, 4, 2, 6, 7, 8]),\n",
              " (23, [1, 2, 3, 4, 3, 6, 7, 8]),\n",
              " (22, [1, 2, 3, 4, 4, 6, 7, 8]),\n",
              " (22, [1, 2, 3, 4, 6, 6, 7, 8]),\n",
              " (23, [1, 2, 3, 4, 7, 6, 7, 8]),\n",
              " (22, [1, 2, 3, 4, 8, 6, 7, 8]),\n",
              " (22, [1, 2, 3, 4, 5, 1, 7, 8]),\n",
              " (23, [1, 2, 3, 4, 5, 2, 7, 8]),\n",
              " (22, [1, 2, 3, 4, 5, 3, 7, 8]),\n",
              " (23, [1, 2, 3, 4, 5, 4, 7, 8]),\n",
              " (22, [1, 2, 3, 4, 5, 5, 7, 8]),\n",
              " (22, [1, 2, 3, 4, 5, 7, 7, 8]),\n",
              " (23, [1, 2, 3, 4, 5, 8, 7, 8]),\n",
              " (23, [1, 2, 3, 4, 5, 6, 1, 8]),\n",
              " (22, [1, 2, 3, 4, 5, 6, 2, 8]),\n",
              " (23, [1, 2, 3, 4, 5, 6, 3, 8]),\n",
              " (22, [1, 2, 3, 4, 5, 6, 4, 8]),\n",
              " (23, [1, 2, 3, 4, 5, 6, 5, 8]),\n",
              " (22, [1, 2, 3, 4, 5, 6, 6, 8]),\n",
              " (22, [1, 2, 3, 4, 5, 6, 8, 8]),\n",
              " (22, [1, 2, 3, 4, 5, 6, 7, 1]),\n",
              " (23, [1, 2, 3, 4, 5, 6, 7, 2]),\n",
              " (22, [1, 2, 3, 4, 5, 6, 7, 3]),\n",
              " (23, [1, 2, 3, 4, 5, 6, 7, 4]),\n",
              " (22, [1, 2, 3, 4, 5, 6, 7, 5]),\n",
              " (23, [1, 2, 3, 4, 5, 6, 7, 6]),\n",
              " (22, [1, 2, 3, 4, 5, 6, 7, 7])]"
            ]
          },
          "metadata": {},
          "execution_count": 99
        }
      ]
    },
    {
      "cell_type": "code",
      "source": [
        "sorted(Tuplas, key=lambda k: k[0])"
      ],
      "metadata": {
        "colab": {
          "base_uri": "https://localhost:8080/"
        },
        "id": "awxLMBkosD-O",
        "outputId": "3ebcd4ba-e2bb-4b2d-9fbd-9dd762d77fb6"
      },
      "execution_count": 100,
      "outputs": [
        {
          "output_type": "execute_result",
          "data": {
            "text/plain": [
              "[(22, [2, 2, 3, 4, 5, 6, 7, 8]),\n",
              " (22, [4, 2, 3, 4, 5, 6, 7, 8]),\n",
              " (22, [6, 2, 3, 4, 5, 6, 7, 8]),\n",
              " (22, [8, 2, 3, 4, 5, 6, 7, 8]),\n",
              " (22, [1, 1, 3, 4, 5, 6, 7, 8]),\n",
              " (22, [1, 3, 3, 4, 5, 6, 7, 8]),\n",
              " (22, [1, 5, 3, 4, 5, 6, 7, 8]),\n",
              " (22, [1, 7, 3, 4, 5, 6, 7, 8]),\n",
              " (22, [1, 2, 2, 4, 5, 6, 7, 8]),\n",
              " (22, [1, 2, 4, 4, 5, 6, 7, 8]),\n",
              " (22, [1, 2, 6, 4, 5, 6, 7, 8]),\n",
              " (22, [1, 2, 8, 4, 5, 6, 7, 8]),\n",
              " (22, [1, 2, 3, 1, 5, 6, 7, 8]),\n",
              " (22, [1, 2, 3, 3, 5, 6, 7, 8]),\n",
              " (22, [1, 2, 3, 5, 5, 6, 7, 8]),\n",
              " (22, [1, 2, 3, 7, 5, 6, 7, 8]),\n",
              " (22, [1, 2, 3, 4, 2, 6, 7, 8]),\n",
              " (22, [1, 2, 3, 4, 4, 6, 7, 8]),\n",
              " (22, [1, 2, 3, 4, 6, 6, 7, 8]),\n",
              " (22, [1, 2, 3, 4, 8, 6, 7, 8]),\n",
              " (22, [1, 2, 3, 4, 5, 1, 7, 8]),\n",
              " (22, [1, 2, 3, 4, 5, 3, 7, 8]),\n",
              " (22, [1, 2, 3, 4, 5, 5, 7, 8]),\n",
              " (22, [1, 2, 3, 4, 5, 7, 7, 8]),\n",
              " (22, [1, 2, 3, 4, 5, 6, 2, 8]),\n",
              " (22, [1, 2, 3, 4, 5, 6, 4, 8]),\n",
              " (22, [1, 2, 3, 4, 5, 6, 6, 8]),\n",
              " (22, [1, 2, 3, 4, 5, 6, 8, 8]),\n",
              " (22, [1, 2, 3, 4, 5, 6, 7, 1]),\n",
              " (22, [1, 2, 3, 4, 5, 6, 7, 3]),\n",
              " (22, [1, 2, 3, 4, 5, 6, 7, 5]),\n",
              " (22, [1, 2, 3, 4, 5, 6, 7, 7]),\n",
              " (23, [3, 2, 3, 4, 5, 6, 7, 8]),\n",
              " (23, [5, 2, 3, 4, 5, 6, 7, 8]),\n",
              " (23, [7, 2, 3, 4, 5, 6, 7, 8]),\n",
              " (23, [1, 4, 3, 4, 5, 6, 7, 8]),\n",
              " (23, [1, 6, 3, 4, 5, 6, 7, 8]),\n",
              " (23, [1, 8, 3, 4, 5, 6, 7, 8]),\n",
              " (23, [1, 2, 1, 4, 5, 6, 7, 8]),\n",
              " (23, [1, 2, 5, 4, 5, 6, 7, 8]),\n",
              " (23, [1, 2, 7, 4, 5, 6, 7, 8]),\n",
              " (23, [1, 2, 3, 2, 5, 6, 7, 8]),\n",
              " (23, [1, 2, 3, 6, 5, 6, 7, 8]),\n",
              " (23, [1, 2, 3, 8, 5, 6, 7, 8]),\n",
              " (23, [1, 2, 3, 4, 1, 6, 7, 8]),\n",
              " (23, [1, 2, 3, 4, 3, 6, 7, 8]),\n",
              " (23, [1, 2, 3, 4, 7, 6, 7, 8]),\n",
              " (23, [1, 2, 3, 4, 5, 2, 7, 8]),\n",
              " (23, [1, 2, 3, 4, 5, 4, 7, 8]),\n",
              " (23, [1, 2, 3, 4, 5, 8, 7, 8]),\n",
              " (23, [1, 2, 3, 4, 5, 6, 1, 8]),\n",
              " (23, [1, 2, 3, 4, 5, 6, 3, 8]),\n",
              " (23, [1, 2, 3, 4, 5, 6, 5, 8]),\n",
              " (23, [1, 2, 3, 4, 5, 6, 7, 2]),\n",
              " (23, [1, 2, 3, 4, 5, 6, 7, 4]),\n",
              " (23, [1, 2, 3, 4, 5, 6, 7, 6])]"
            ]
          },
          "metadata": {},
          "execution_count": 100
        }
      ]
    },
    {
      "cell_type": "markdown",
      "source": [
        "## Funções Auxiliares - AG"
      ],
      "metadata": {
        "id": "3tg4XhiiHrNG"
      }
    },
    {
      "cell_type": "markdown",
      "source": [
        "### Mutação"
      ],
      "metadata": {
        "id": "uUcQwNvpFzlp"
      }
    },
    {
      "cell_type": "code",
      "source": [
        "def mutacao(VT, p_mutacao=0.30):\n",
        "\n",
        "    VT_mutated = VT.copy()\n",
        "\n",
        "    N = len(VT)\n",
        "    p = np.random.rand()\n",
        "\n",
        "    if p < p_mutacao:\n",
        "        col   = np.random.randint(0,N)    # indice da coluna (base-0)\n",
        "        linha = np.random.randint(1,N+1)  # valor da linha   (base-1)\n",
        "\n",
        "        VT_mutated[col] = linha\n",
        "        #print(col+1, linha)\n",
        "\n",
        "    return VT_mutated"
      ],
      "metadata": {
        "id": "nUXJydQWsSud"
      },
      "execution_count": 101,
      "outputs": []
    },
    {
      "cell_type": "code",
      "source": [
        "VT"
      ],
      "metadata": {
        "colab": {
          "base_uri": "https://localhost:8080/"
        },
        "id": "dytJXCijpcOE",
        "outputId": "bdff4666-ec9b-45f8-8a66-548dbb51fa42"
      },
      "execution_count": 102,
      "outputs": [
        {
          "output_type": "execute_result",
          "data": {
            "text/plain": [
              "[1, 2, 3, 4, 5, 6, 7, 8]"
            ]
          },
          "metadata": {},
          "execution_count": 102
        }
      ]
    },
    {
      "cell_type": "code",
      "source": [
        "VT2 = mutacao(VT)\n",
        "VT, VT2, VT != VT2"
      ],
      "metadata": {
        "colab": {
          "base_uri": "https://localhost:8080/"
        },
        "id": "6GIV1pitubsc",
        "outputId": "6fae4681-0c39-45b8-aa18-bd683e758276"
      },
      "execution_count": 103,
      "outputs": [
        {
          "output_type": "execute_result",
          "data": {
            "text/plain": [
              "([1, 2, 3, 4, 5, 6, 7, 8], [1, 2, 3, 4, 5, 6, 7, 8], False)"
            ]
          },
          "metadata": {},
          "execution_count": 103
        }
      ]
    },
    {
      "cell_type": "markdown",
      "source": [
        "### Crossover"
      ],
      "metadata": {
        "id": "q7q7CoFuF1w5"
      }
    },
    {
      "cell_type": "code",
      "source": [
        "def crossover(Parent1, Parent2):\n",
        "\n",
        "    N = len(Parent1)\n",
        "\n",
        "    # ponto de corte\n",
        "    c = np.random.randint(1, N-1)\n",
        "\n",
        "    # crossover no ponto de corte\n",
        "    # gerando dois filhos\n",
        "    child1 = list(Parent1[:c]) + list(Parent2[c:])\n",
        "    child2 = list(Parent2[:c]) + list(Parent1[c:])\n",
        "\n",
        "    return child1, child2"
      ],
      "metadata": {
        "id": "3sIPZcHxudG8"
      },
      "execution_count": 104,
      "outputs": []
    },
    {
      "cell_type": "code",
      "source": [
        "VT1 = [1,1,1,1,1,1,1,1]\n",
        "VT2 = [2,2,2,2,2,2,2,2]"
      ],
      "metadata": {
        "id": "N0mrZDKpytgY"
      },
      "execution_count": 105,
      "outputs": []
    },
    {
      "cell_type": "code",
      "source": [
        "crossover(VT1,VT2)"
      ],
      "metadata": {
        "colab": {
          "base_uri": "https://localhost:8080/"
        },
        "id": "BmFkqSaVyluH",
        "outputId": "f0e5b73f-3407-41f9-cbde-192a7a01bc2c"
      },
      "execution_count": 106,
      "outputs": [
        {
          "output_type": "execute_result",
          "data": {
            "text/plain": [
              "([1, 2, 2, 2, 2, 2, 2, 2], [2, 1, 1, 1, 1, 1, 1, 1])"
            ]
          },
          "metadata": {},
          "execution_count": 106
        }
      ]
    },
    {
      "cell_type": "markdown",
      "source": [
        "### Seleciona pais"
      ],
      "metadata": {
        "id": "1aG6C4zLF4kp"
      }
    },
    {
      "cell_type": "code",
      "source": [
        "# Selecao por torneio\n",
        "def selecao(Populacao):\n",
        "    Candidato1 = random.choice(Populacao)\n",
        "    Candidato2 = random.choice(Populacao)\n",
        "\n",
        "    a1 = conta_ataques(Candidato1)\n",
        "    a2 = conta_ataques(Candidato2)\n",
        "    #print(a1,a2)\n",
        "\n",
        "    # eleito o candidato com menor custo\n",
        "    eleito = Candidato1 if a1<=a2 else Candidato2\n",
        "\n",
        "    return eleito\n"
      ],
      "metadata": {
        "id": "USJeP4eIy0qX"
      },
      "execution_count": 107,
      "outputs": []
    },
    {
      "cell_type": "code",
      "source": [
        "selecao([VT1,VT2])"
      ],
      "metadata": {
        "colab": {
          "base_uri": "https://localhost:8080/"
        },
        "id": "oYMetv5Yzfsl",
        "outputId": "d90cc4c3-e36b-40d5-a923-343b5a6f6e9d"
      },
      "execution_count": 108,
      "outputs": [
        {
          "output_type": "execute_result",
          "data": {
            "text/plain": [
              "[1, 1, 1, 1, 1, 1, 1, 1]"
            ]
          },
          "metadata": {},
          "execution_count": 108
        }
      ]
    },
    {
      "cell_type": "markdown",
      "source": [
        "### Gera Indivíduo"
      ],
      "metadata": {
        "id": "EnkejvpMJjh5"
      }
    },
    {
      "cell_type": "code",
      "source": [
        "def gera_individuo(n_cols):\n",
        "    # individuo é um Vetor (N) em que cada posicação\n",
        "    # representa uma coluna indicando as respectivas\n",
        "    # linhas ocupadas pelas rainhas em um tabuleiro (NxN).\n",
        "\n",
        "    # VT = [low, high) x n_cols\n",
        "\n",
        "    VT = np.random.randint(low=1, high=n_cols+1, size=n_cols)\n",
        "    return VT"
      ],
      "metadata": {
        "id": "rjDoVFiFJq82"
      },
      "execution_count": 109,
      "outputs": []
    },
    {
      "cell_type": "code",
      "source": [
        "N=8\n",
        "gera_individuo(N)"
      ],
      "metadata": {
        "colab": {
          "base_uri": "https://localhost:8080/"
        },
        "id": "60EZhGMgNdcG",
        "outputId": "110504e2-71e7-45ef-da5d-73472bedd5f2"
      },
      "execution_count": 110,
      "outputs": [
        {
          "output_type": "execute_result",
          "data": {
            "text/plain": [
              "array([3, 1, 5, 7, 4, 8, 6, 2])"
            ]
          },
          "metadata": {},
          "execution_count": 110
        }
      ]
    },
    {
      "cell_type": "markdown",
      "source": [
        "### Gera População"
      ],
      "metadata": {
        "id": "0s9cB_ZmJ8iI"
      }
    },
    {
      "cell_type": "code",
      "source": [
        "def gera_populacao_inicial(N, tam_pop):\n",
        "    # N:       tamanho do tabuleiro (NxN)\n",
        "    # tam_pop: tamanho da população\n",
        "    populacao = []\n",
        "    for _ in range(tam_pop):\n",
        "        individuo = gera_individuo(N)\n",
        "\n",
        "        populacao.append(individuo)\n",
        "\n",
        "    return populacao"
      ],
      "metadata": {
        "id": "bHOtoOudJmHU"
      },
      "execution_count": 111,
      "outputs": []
    },
    {
      "cell_type": "code",
      "source": [
        "N = 8\n",
        "tam_pop = 10\n",
        "gera_populacao_inicial(N, tam_pop)"
      ],
      "metadata": {
        "colab": {
          "base_uri": "https://localhost:8080/"
        },
        "id": "lcbFEfWDPM4y",
        "outputId": "688255fb-2c6b-4cb5-e3a7-8fa6b16d963c"
      },
      "execution_count": 112,
      "outputs": [
        {
          "output_type": "execute_result",
          "data": {
            "text/plain": [
              "[array([5, 4, 3, 7, 5, 6, 3, 6]),\n",
              " array([3, 5, 4, 7, 8, 4, 3, 6]),\n",
              " array([6, 4, 6, 1, 1, 1, 5, 3]),\n",
              " array([1, 4, 8, 4, 7, 5, 2, 5]),\n",
              " array([8, 6, 7, 1, 5, 3, 3, 3]),\n",
              " array([6, 2, 3, 5, 3, 5, 5, 1]),\n",
              " array([2, 1, 1, 8, 7, 2, 6, 6]),\n",
              " array([2, 2, 3, 6, 6, 4, 2, 4]),\n",
              " array([8, 5, 8, 3, 6, 4, 8, 6]),\n",
              " array([6, 2, 7, 7, 7, 6, 2, 7])]"
            ]
          },
          "metadata": {},
          "execution_count": 112
        }
      ]
    },
    {
      "cell_type": "markdown",
      "source": [
        "## Algoritmo Genético - Implementação"
      ],
      "metadata": {
        "id": "l5_i1oumHeHq"
      }
    },
    {
      "cell_type": "code",
      "source": [
        "# 1) Randomly initialize populations p\n",
        "# 2) Compute fitness of population\n",
        "# 3) Until convergence repeat:\n",
        "#       a) Select parents from population\n",
        "#       b) Crossover and generate new population\n",
        "#       c) Perform mutation on new population\n",
        "# 4) Calculate fitness for new population"
      ],
      "metadata": {
        "id": "2Y_2nRRkH1sI"
      },
      "execution_count": 113,
      "outputs": []
    },
    {
      "cell_type": "code",
      "source": [
        "def algoritmo_genetico(N, tam_pop, num_geracoes, taxa_mutacao, n_exemp):\n",
        "    \"\"\"\n",
        "    Executa o algoritmo genético para o problema das N rainhas.\n",
        "\n",
        "    Parâmetros:\n",
        "    N: número de rainhas e tamanho do tabuleiro (NxN).\n",
        "    tam_pop: tamanho da população.\n",
        "    num_geracoes: número máximo de gerações por exemplo.\n",
        "    taxa_mutacao: probabilidade de mutação.\n",
        "    n_exemp: número de exemplos a serem gerados.\n",
        "\n",
        "    Retorna:\n",
        "    percentual de soluções encontradas.\n",
        "    custo médio das gerações.\n",
        "    \"\"\"\n",
        "    solucoes_encontradas = 0\n",
        "    geracoes_necessarias = []\n",
        "\n",
        "    # Geração dos exemplos para teste\n",
        "    for i in range(n_exemp):\n",
        "        # Geração da população inicial\n",
        "        Populacao = gera_populacao_inicial(N, tam_pop)\n",
        "        # Cálculo do custo inicial de cada indivíduo\n",
        "        TuplasCustos = gera_tuplas_custos(Populacao)\n",
        "        # Ordenação da população pelo custo (fitness)\n",
        "        Populacao = [t[1] for t in sorted(TuplasCustos, key=lambda x: x[0])]\n",
        "\n",
        "        for geracao in range(num_geracoes):\n",
        "            nova_populacao = []\n",
        "            # Garante a geração de uma população completa\n",
        "            while len(nova_populacao) < tam_pop:\n",
        "                # Seleção por torneio dos pais\n",
        "                pai1 = selecao(Populacao)\n",
        "                pai2 = selecao(Populacao)\n",
        "\n",
        "                # Crossover dos pais para gerar filhos\n",
        "                filho1, filho2 = crossover(pai1, pai2)\n",
        "\n",
        "                # Mutação dos filhos\n",
        "                filho1 = mutacao(filho1, taxa_mutacao)\n",
        "                filho2 = mutacao(filho2, taxa_mutacao)\n",
        "\n",
        "                # Adiciona os filhos à nova população\n",
        "                nova_populacao.extend([filho1, filho2])\n",
        "\n",
        "            # Avaliação da nova população (computar fitness)\n",
        "            TuplasCustos = gera_tuplas_custos(nova_populacao)\n",
        "            nova_populacao = [t[1] for t in sorted(TuplasCustos, key=lambda x: x[0])]\n",
        "            melhor_fitness_atual = TuplasCustos[0][0]\n",
        "\n",
        "            # Verificação de solução ótima\n",
        "            if melhor_fitness_atual == 0:\n",
        "                solucoes_encontradas += 1\n",
        "                geracoes_necessarias.append(geracao + 1)\n",
        "                break\n",
        "            Populacao = nova_populacao\n",
        "\n",
        "        # Registro do número de gerações necessárias se nenhuma solução foi encontrada\n",
        "        if melhor_fitness_atual > 0:\n",
        "            geracoes_necessarias.append(num_geracoes)\n",
        "\n",
        "    # Cálculo do percentual de soluções encontradas e custo médio das gerações\n",
        "    percentual_resolvidos = (solucoes_encontradas / float(n_exemp)) * 100\n",
        "    custo_medio = sum(geracoes_necessarias) / len(geracoes_necessarias)\n",
        "    return percentual_resolvidos, custo_medio\n"
      ],
      "metadata": {
        "id": "-9BG1wnoJZTI"
      },
      "execution_count": 121,
      "outputs": []
    },
    {
      "cell_type": "code",
      "source": [
        "# Configurações do algoritmo\n",
        "N = 8  # tamanho do tabuleiro 8 x 8\n",
        "tam_pop = 16  # tamanho da população\n",
        "num_geracoes = 1000  # número máximo de gerações\n",
        "taxa_mutacao = 0.1  # taxa de mutação\n",
        "n_exemplos = 100\n",
        "\n",
        "percentual_resolvidos, custo_medio = algoritmo_genetico(N, tam_pop, num_geracoes, taxa_mutacao, n_exemplos)\n",
        "print(f\"Percentual de problemas resolvidos: {percentual_resolvidos}%\")\n",
        "print(f\"Custo médio da busca (em gerações): {custo_medio}\")"
      ],
      "metadata": {
        "colab": {
          "base_uri": "https://localhost:8080/"
        },
        "id": "E3CXvd9mGeAC",
        "outputId": "0144ab6e-6b47-4313-d591-5dd42d6e6ee3"
      },
      "execution_count": 119,
      "outputs": [
        {
          "output_type": "stream",
          "name": "stdout",
          "text": [
            "Percentual de problemas resolvidos: 40.0%\n",
            "Custo médio da busca (em gerações): 729.77\n"
          ]
        }
      ]
    }
  ]
}