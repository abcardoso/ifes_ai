{
  "nbformat": 4,
  "nbformat_minor": 0,
  "metadata": {
    "colab": {
      "provenance": [],
      "include_colab_link": true
    },
    "kernelspec": {
      "name": "python3",
      "display_name": "Python 3"
    },
    "language_info": {
      "name": "python"
    }
  },
  "cells": [
    {
      "cell_type": "markdown",
      "metadata": {
        "id": "view-in-github",
        "colab_type": "text"
      },
      "source": [
        "<a href=\"https://colab.research.google.com/github/abcardoso/ifes_ai/blob/main/IA_GeneticAlgorithm_8queens_Solucao.ipynb\" target=\"_parent\"><img src=\"https://colab.research.google.com/assets/colab-badge.svg\" alt=\"Open In Colab\"/></a>"
      ]
    },
    {
      "cell_type": "markdown",
      "source": [
        "Teste de implementação em phyton do Algoritmo Genético.\n",
        "Obs.:"
      ],
      "metadata": {
        "id": "n8AwNSzzRWZ5"
      }
    },
    {
      "cell_type": "markdown",
      "source": [
        "# Algoritmo Genético\n",
        "## Para o problema das 8 rainhas"
      ],
      "metadata": {
        "id": "hX_HwCvidpyR"
      }
    },
    {
      "cell_type": "markdown",
      "source": [
        "## Importações"
      ],
      "metadata": {
        "id": "JzA1EYj1HC76"
      }
    },
    {
      "cell_type": "code",
      "source": [
        "# Manipulação de dados\n",
        "import numpy as np\n",
        "#import pandas as pd\n",
        "\n",
        "# Geração de números aleatórios\n",
        "import random"
      ],
      "metadata": {
        "id": "XkS2WmGGHGN2"
      },
      "execution_count": null,
      "outputs": []
    },
    {
      "cell_type": "code",
      "source": [
        "#VT = np.array([4,8,2,7,3,1,5,6])\n",
        "VT = np.array([4,8,2,7,3,7,5,4])\n",
        "\n",
        "VT"
      ],
      "metadata": {
        "colab": {
          "base_uri": "https://localhost:8080/"
        },
        "id": "tF1W659hMnFE",
        "outputId": "574c0f58-c4b5-493b-b39a-b3b68fe88752"
      },
      "execution_count": null,
      "outputs": [
        {
          "output_type": "execute_result",
          "data": {
            "text/plain": [
              "array([4, 8, 2, 7, 3, 7, 5, 4])"
            ]
          },
          "metadata": {},
          "execution_count": 2
        }
      ]
    },
    {
      "cell_type": "markdown",
      "source": [
        "## Funções Auxiliares - Problema"
      ],
      "metadata": {
        "id": "2nnjfm3TeGvW"
      }
    },
    {
      "cell_type": "markdown",
      "source": [
        "### Converte Vetor em Tabuleiro"
      ],
      "metadata": {
        "id": "p_EHH-ACFL53"
      }
    },
    {
      "cell_type": "code",
      "source": [
        "def converte_tabuleiro(VT):\n",
        "    '''\n",
        "    Recebe um vetor representando um tabuleiro\n",
        "    com N rainhas, uma por coluna e retorna\n",
        "    uma lista de lista de 0 e 1 representando\n",
        "    um tabuleiro com as rainhas.\n",
        "    '''\n",
        "    N = len(VT)\n",
        "\n",
        "    L = [0]*N\n",
        "    T = []\n",
        "    for i in range(N):\n",
        "        T += [L.copy()]\n",
        "\n",
        "    for lin in range(N):\n",
        "        for col in range(N):\n",
        "            if lin+1 == VT[col]:\n",
        "                T[lin][col] = 1\n",
        "\n",
        "    return T"
      ],
      "metadata": {
        "id": "8eO_wG3Enx64"
      },
      "execution_count": null,
      "outputs": []
    },
    {
      "cell_type": "code",
      "source": [
        "converte_tabuleiro(VT)"
      ],
      "metadata": {
        "colab": {
          "base_uri": "https://localhost:8080/"
        },
        "id": "JA4nMhpNoHR1",
        "outputId": "73a8d70d-9adf-4721-a04d-402458290af2"
      },
      "execution_count": null,
      "outputs": [
        {
          "output_type": "execute_result",
          "data": {
            "text/plain": [
              "[[0, 0, 0, 0, 0, 0, 0, 0],\n",
              " [0, 0, 1, 0, 0, 0, 0, 0],\n",
              " [0, 0, 0, 0, 1, 0, 0, 0],\n",
              " [1, 0, 0, 0, 0, 0, 0, 1],\n",
              " [0, 0, 0, 0, 0, 0, 1, 0],\n",
              " [0, 0, 0, 0, 0, 0, 0, 0],\n",
              " [0, 0, 0, 1, 0, 1, 0, 0],\n",
              " [0, 1, 0, 0, 0, 0, 0, 0]]"
            ]
          },
          "metadata": {},
          "execution_count": 4
        }
      ]
    },
    {
      "cell_type": "markdown",
      "source": [
        "### Calcula custo (Fitness)"
      ],
      "metadata": {
        "id": "GUPKonQ4FVCZ"
      }
    },
    {
      "cell_type": "code",
      "source": [
        "def __conta_ataques_linhas(VT):\n",
        "    '''\n",
        "    Função que recebe um Vetor-Tabuleiro e\n",
        "    retorna o número de pares de rainhas se\n",
        "    atacando mutuamente nas linhas.\n",
        "    '''\n",
        "    ataques = 0\n",
        "    N = len(VT)\n",
        "    for col1 in range(N):\n",
        "        lin1 = VT[col1]\n",
        "        for col2 in range(col1+1, N):\n",
        "            lin2 = VT[col2]\n",
        "            if lin1==lin2:\n",
        "                ataques +=1\n",
        "\n",
        "    return ataques"
      ],
      "metadata": {
        "id": "D25sedCPrrcg"
      },
      "execution_count": null,
      "outputs": []
    },
    {
      "cell_type": "code",
      "source": [
        "__conta_ataques_linhas(VT)"
      ],
      "metadata": {
        "colab": {
          "base_uri": "https://localhost:8080/"
        },
        "id": "ippPbtD5sodj",
        "outputId": "1bc0b420-a900-463f-8eb1-e8cbc397d9c3"
      },
      "execution_count": null,
      "outputs": [
        {
          "output_type": "execute_result",
          "data": {
            "text/plain": [
              "2"
            ]
          },
          "metadata": {},
          "execution_count": 6
        }
      ]
    },
    {
      "cell_type": "code",
      "source": [
        "def __conta_ataques_diagonais(VT):\n",
        "    '''\n",
        "    Função que recebe um Vetor-Tabuleiro e\n",
        "    retorna o número de pares de rainhas se\n",
        "    atacando mutuamente nas diagonais.\n",
        "    '''\n",
        "    ataques = 0\n",
        "    N = len(VT)\n",
        "\n",
        "    for col1 in range(N):\n",
        "        lin1 = VT[col1]\n",
        "        for col2 in range(col1+1, N):\n",
        "            lin2 = VT[col2]\n",
        "\n",
        "            # diferenças entre as linhas e colunas\n",
        "            d1 = lin1-col1\n",
        "            d2 = lin2-col2\n",
        "\n",
        "            # somas das linhas e colunas\n",
        "            s1 = lin1+col1\n",
        "            s2 = lin2+col2\n",
        "\n",
        "            # condições para ataques nas diagonais\n",
        "            if d1==d2 or s1==s2:\n",
        "                ataques +=1\n",
        "                #print(f'({lin1},{col1+1}) ({lin2},{col2+1}) -->', ataques,\n",
        "                #      '<--', f'  -({d1:2},{d2:2})  +({s1:2},{s2:2})')\n",
        "\n",
        "    return ataques"
      ],
      "metadata": {
        "id": "7F0jjrJosqgu"
      },
      "execution_count": null,
      "outputs": []
    },
    {
      "cell_type": "code",
      "source": [
        "converte_tabuleiro(VT)"
      ],
      "metadata": {
        "colab": {
          "base_uri": "https://localhost:8080/"
        },
        "id": "ICrKqYbhkSQ1",
        "outputId": "7638d5ec-cab6-440d-bcfa-e2fd9839e269"
      },
      "execution_count": null,
      "outputs": [
        {
          "output_type": "execute_result",
          "data": {
            "text/plain": [
              "[[0, 0, 0, 0, 0, 0, 0, 0],\n",
              " [0, 0, 1, 0, 0, 0, 0, 0],\n",
              " [0, 0, 0, 0, 1, 0, 0, 0],\n",
              " [1, 0, 0, 0, 0, 0, 0, 1],\n",
              " [0, 0, 0, 0, 0, 0, 1, 0],\n",
              " [0, 0, 0, 0, 0, 0, 0, 0],\n",
              " [0, 0, 0, 1, 0, 1, 0, 0],\n",
              " [0, 1, 0, 0, 0, 0, 0, 0]]"
            ]
          },
          "metadata": {},
          "execution_count": 8
        }
      ]
    },
    {
      "cell_type": "code",
      "source": [
        "__conta_ataques_diagonais(VT)"
      ],
      "metadata": {
        "colab": {
          "base_uri": "https://localhost:8080/"
        },
        "id": "mQ_9ze4cuIMW",
        "outputId": "23daaf32-0e26-459f-9fec-019fb63097b2"
      },
      "execution_count": null,
      "outputs": [
        {
          "output_type": "execute_result",
          "data": {
            "text/plain": [
              "4"
            ]
          },
          "metadata": {},
          "execution_count": 9
        }
      ]
    },
    {
      "cell_type": "code",
      "source": [
        "def conta_ataques(VT):\n",
        "    '''\n",
        "    Função que recebe um Vetor-Tabuleiro e\n",
        "    retorna o número de pares de rainhas se\n",
        "    atacando mutuamente nas linhas e diagonais.\n",
        "    '''\n",
        "    ataques  = __conta_ataques_linhas(VT)\n",
        "\n",
        "    ataques += __conta_ataques_diagonais(VT)\n",
        "\n",
        "    return ataques"
      ],
      "metadata": {
        "id": "8cTwjPfivq75"
      },
      "execution_count": null,
      "outputs": []
    },
    {
      "cell_type": "code",
      "source": [
        "VT = [1,2,3,4,5,6,7,8]"
      ],
      "metadata": {
        "id": "-BTM7X6FGKI3"
      },
      "execution_count": null,
      "outputs": []
    },
    {
      "cell_type": "code",
      "source": [
        "conta_ataques(VT)"
      ],
      "metadata": {
        "colab": {
          "base_uri": "https://localhost:8080/"
        },
        "id": "HiEykhZTuQEX",
        "outputId": "f98944f4-30fb-4eba-8a64-77c26f9dfeb1"
      },
      "execution_count": null,
      "outputs": [
        {
          "output_type": "execute_result",
          "data": {
            "text/plain": [
              "28"
            ]
          },
          "metadata": {},
          "execution_count": 12
        }
      ]
    },
    {
      "cell_type": "markdown",
      "source": [
        "### Gera vizinhos"
      ],
      "metadata": {
        "id": "ZHbNTMeCFlGJ"
      }
    },
    {
      "cell_type": "code",
      "source": [
        "def gera_vizinhos(VT):\n",
        "    '''\n",
        "    Gera todos os vizinhos possíveis,\n",
        "    variando uma rainha de cada vez.\n",
        "    '''\n",
        "    N = len(VT)\n",
        "    for col in range(N):\n",
        "        for lin in range(N):\n",
        "            # se nao existe rainha naquela linha,\n",
        "            # entao gera estado vizinho.\n",
        "            linha = lin+1\n",
        "            if linha != VT[col]:\n",
        "                vizinho   = VT.copy()\n",
        "                vizinho[col] = linha\n",
        "\n",
        "                yield vizinho\n"
      ],
      "metadata": {
        "id": "_gy9N3w4pl_x"
      },
      "execution_count": null,
      "outputs": []
    },
    {
      "cell_type": "markdown",
      "source": [
        "### Gera tuplas custos"
      ],
      "metadata": {
        "id": "sCLe99jUFrRp"
      }
    },
    {
      "cell_type": "code",
      "source": [
        "def gera_tuplas_custos(Populacao):\n",
        "    '''\n",
        "    Gera tuplas com os custos de todos os individuos da populacao.\n",
        "    '''\n",
        "    TuplasCustos = []\n",
        "    for individuo in Populacao:\n",
        "        ataques = conta_ataques(individuo)\n",
        "\n",
        "        TuplasCustos += [(ataques, individuo)]\n",
        "\n",
        "    return TuplasCustos\n"
      ],
      "metadata": {
        "id": "jl3DcYaapTiP"
      },
      "execution_count": null,
      "outputs": []
    },
    {
      "cell_type": "code",
      "source": [
        "Populacao = gera_vizinhos(VT)\n",
        "Tuplas = gera_tuplas_custos(Populacao)\n",
        "Tuplas"
      ],
      "metadata": {
        "id": "ZfEiuC64sB5M"
      },
      "execution_count": null,
      "outputs": []
    },
    {
      "cell_type": "code",
      "source": [
        "sorted(Tuplas, key=lambda k: k[0])"
      ],
      "metadata": {
        "colab": {
          "base_uri": "https://localhost:8080/"
        },
        "id": "awxLMBkosD-O",
        "outputId": "ba79155b-c054-42ed-b1d5-d90f9e26dc2f"
      },
      "execution_count": null,
      "outputs": [
        {
          "output_type": "execute_result",
          "data": {
            "text/plain": [
              "[(22, [2, 2, 3, 4, 5, 6, 7, 8]),\n",
              " (22, [4, 2, 3, 4, 5, 6, 7, 8]),\n",
              " (22, [6, 2, 3, 4, 5, 6, 7, 8]),\n",
              " (22, [8, 2, 3, 4, 5, 6, 7, 8]),\n",
              " (22, [1, 1, 3, 4, 5, 6, 7, 8]),\n",
              " (22, [1, 3, 3, 4, 5, 6, 7, 8]),\n",
              " (22, [1, 5, 3, 4, 5, 6, 7, 8]),\n",
              " (22, [1, 7, 3, 4, 5, 6, 7, 8]),\n",
              " (22, [1, 2, 2, 4, 5, 6, 7, 8]),\n",
              " (22, [1, 2, 4, 4, 5, 6, 7, 8]),\n",
              " (22, [1, 2, 6, 4, 5, 6, 7, 8]),\n",
              " (22, [1, 2, 8, 4, 5, 6, 7, 8]),\n",
              " (22, [1, 2, 3, 1, 5, 6, 7, 8]),\n",
              " (22, [1, 2, 3, 3, 5, 6, 7, 8]),\n",
              " (22, [1, 2, 3, 5, 5, 6, 7, 8]),\n",
              " (22, [1, 2, 3, 7, 5, 6, 7, 8]),\n",
              " (22, [1, 2, 3, 4, 2, 6, 7, 8]),\n",
              " (22, [1, 2, 3, 4, 4, 6, 7, 8]),\n",
              " (22, [1, 2, 3, 4, 6, 6, 7, 8]),\n",
              " (22, [1, 2, 3, 4, 8, 6, 7, 8]),\n",
              " (22, [1, 2, 3, 4, 5, 1, 7, 8]),\n",
              " (22, [1, 2, 3, 4, 5, 3, 7, 8]),\n",
              " (22, [1, 2, 3, 4, 5, 5, 7, 8]),\n",
              " (22, [1, 2, 3, 4, 5, 7, 7, 8]),\n",
              " (22, [1, 2, 3, 4, 5, 6, 2, 8]),\n",
              " (22, [1, 2, 3, 4, 5, 6, 4, 8]),\n",
              " (22, [1, 2, 3, 4, 5, 6, 6, 8]),\n",
              " (22, [1, 2, 3, 4, 5, 6, 8, 8]),\n",
              " (22, [1, 2, 3, 4, 5, 6, 7, 1]),\n",
              " (22, [1, 2, 3, 4, 5, 6, 7, 3]),\n",
              " (22, [1, 2, 3, 4, 5, 6, 7, 5]),\n",
              " (22, [1, 2, 3, 4, 5, 6, 7, 7]),\n",
              " (23, [3, 2, 3, 4, 5, 6, 7, 8]),\n",
              " (23, [5, 2, 3, 4, 5, 6, 7, 8]),\n",
              " (23, [7, 2, 3, 4, 5, 6, 7, 8]),\n",
              " (23, [1, 4, 3, 4, 5, 6, 7, 8]),\n",
              " (23, [1, 6, 3, 4, 5, 6, 7, 8]),\n",
              " (23, [1, 8, 3, 4, 5, 6, 7, 8]),\n",
              " (23, [1, 2, 1, 4, 5, 6, 7, 8]),\n",
              " (23, [1, 2, 5, 4, 5, 6, 7, 8]),\n",
              " (23, [1, 2, 7, 4, 5, 6, 7, 8]),\n",
              " (23, [1, 2, 3, 2, 5, 6, 7, 8]),\n",
              " (23, [1, 2, 3, 6, 5, 6, 7, 8]),\n",
              " (23, [1, 2, 3, 8, 5, 6, 7, 8]),\n",
              " (23, [1, 2, 3, 4, 1, 6, 7, 8]),\n",
              " (23, [1, 2, 3, 4, 3, 6, 7, 8]),\n",
              " (23, [1, 2, 3, 4, 7, 6, 7, 8]),\n",
              " (23, [1, 2, 3, 4, 5, 2, 7, 8]),\n",
              " (23, [1, 2, 3, 4, 5, 4, 7, 8]),\n",
              " (23, [1, 2, 3, 4, 5, 8, 7, 8]),\n",
              " (23, [1, 2, 3, 4, 5, 6, 1, 8]),\n",
              " (23, [1, 2, 3, 4, 5, 6, 3, 8]),\n",
              " (23, [1, 2, 3, 4, 5, 6, 5, 8]),\n",
              " (23, [1, 2, 3, 4, 5, 6, 7, 2]),\n",
              " (23, [1, 2, 3, 4, 5, 6, 7, 4]),\n",
              " (23, [1, 2, 3, 4, 5, 6, 7, 6])]"
            ]
          },
          "metadata": {},
          "execution_count": 19
        }
      ]
    },
    {
      "cell_type": "markdown",
      "source": [
        "## Funções Auxiliares - AG"
      ],
      "metadata": {
        "id": "3tg4XhiiHrNG"
      }
    },
    {
      "cell_type": "markdown",
      "source": [
        "### Mutação"
      ],
      "metadata": {
        "id": "uUcQwNvpFzlp"
      }
    },
    {
      "cell_type": "code",
      "source": [
        "def mutacao(VT, p_mutacao=0.30):\n",
        "\n",
        "    VT_mutated = VT.copy()\n",
        "\n",
        "    N = len(VT)\n",
        "    p = np.random.rand()\n",
        "\n",
        "    if p < p_mutacao:\n",
        "        col   = np.random.randint(0,N)    # indice da coluna (base-0)\n",
        "        linha = np.random.randint(1,N+1)  # valor da linha   (base-1)\n",
        "\n",
        "        VT_mutated[col] = linha\n",
        "        #print(col+1, linha)\n",
        "\n",
        "    return VT_mutated"
      ],
      "metadata": {
        "id": "nUXJydQWsSud"
      },
      "execution_count": null,
      "outputs": []
    },
    {
      "cell_type": "code",
      "source": [
        "VT"
      ],
      "metadata": {
        "colab": {
          "base_uri": "https://localhost:8080/"
        },
        "id": "dytJXCijpcOE",
        "outputId": "34fbfdd1-2dc6-44c8-b8d4-1442ded27fb4"
      },
      "execution_count": null,
      "outputs": [
        {
          "output_type": "execute_result",
          "data": {
            "text/plain": [
              "[1, 2, 3, 4, 5, 6, 7, 8]"
            ]
          },
          "metadata": {},
          "execution_count": 23
        }
      ]
    },
    {
      "cell_type": "code",
      "source": [
        "VT2 = mutacao(VT)\n",
        "VT, VT2, VT != VT2"
      ],
      "metadata": {
        "colab": {
          "base_uri": "https://localhost:8080/"
        },
        "id": "6GIV1pitubsc",
        "outputId": "0966513c-33d2-4e97-934e-8d475ff919a2"
      },
      "execution_count": null,
      "outputs": [
        {
          "output_type": "execute_result",
          "data": {
            "text/plain": [
              "([1, 2, 3, 4, 5, 6, 7, 8], [1, 2, 3, 8, 5, 6, 7, 8], True)"
            ]
          },
          "metadata": {},
          "execution_count": 27
        }
      ]
    },
    {
      "cell_type": "markdown",
      "source": [
        "### Crossover"
      ],
      "metadata": {
        "id": "q7q7CoFuF1w5"
      }
    },
    {
      "cell_type": "code",
      "source": [
        "def crossover(Parent1, Parent2):\n",
        "\n",
        "    N = len(Parent1)\n",
        "\n",
        "    # ponto de corte\n",
        "    c = np.random.randint(1, N-1)\n",
        "\n",
        "    # crossover no ponto de corte\n",
        "    # gerando dois filhos\n",
        "    child1 = Parent1[:c] + Parent2[c:]\n",
        "    child2 = Parent2[:c] + Parent1[c:]\n",
        "\n",
        "    return child1, child2"
      ],
      "metadata": {
        "id": "3sIPZcHxudG8"
      },
      "execution_count": null,
      "outputs": []
    },
    {
      "cell_type": "code",
      "source": [
        "VT1 = [1,1,1,1,1,1,1,1]\n",
        "VT2 = [2,2,2,2,2,2,2,2]"
      ],
      "metadata": {
        "id": "N0mrZDKpytgY"
      },
      "execution_count": null,
      "outputs": []
    },
    {
      "cell_type": "code",
      "source": [
        "crossover(VT1,VT2)"
      ],
      "metadata": {
        "colab": {
          "base_uri": "https://localhost:8080/"
        },
        "id": "BmFkqSaVyluH",
        "outputId": "7a616089-2efe-4836-b431-73b673e01db9"
      },
      "execution_count": null,
      "outputs": [
        {
          "output_type": "execute_result",
          "data": {
            "text/plain": [
              "([1, 1, 1, 2, 2, 2, 2, 2], [2, 2, 2, 1, 1, 1, 1, 1])"
            ]
          },
          "metadata": {},
          "execution_count": 53
        }
      ]
    },
    {
      "cell_type": "markdown",
      "source": [
        "### Seleciona pais"
      ],
      "metadata": {
        "id": "1aG6C4zLF4kp"
      }
    },
    {
      "cell_type": "code",
      "source": [
        "# Selecao por torneio\n",
        "def selecao(Populacao):\n",
        "    Candidato1 = random.choice(Populacao)\n",
        "    Candidato2 = random.choice(Populacao)\n",
        "\n",
        "    a1 = conta_ataques(Candidato1)\n",
        "    a2 = conta_ataques(Candidato2)\n",
        "    #print(a1,a2)\n",
        "\n",
        "    # eleito o candidato com menor custo\n",
        "    eleito = Candidato1 if a1<=a2 else Candidato2\n",
        "\n",
        "    return eleito"
      ],
      "metadata": {
        "id": "USJeP4eIy0qX"
      },
      "execution_count": null,
      "outputs": []
    },
    {
      "cell_type": "code",
      "source": [
        "selecao([VT1,VT2])"
      ],
      "metadata": {
        "colab": {
          "base_uri": "https://localhost:8080/"
        },
        "id": "oYMetv5Yzfsl",
        "outputId": "86255ac3-91ff-42b8-f8ec-2f4328f6e548"
      },
      "execution_count": null,
      "outputs": [
        {
          "output_type": "execute_result",
          "data": {
            "text/plain": [
              "[2, 2, 2, 2, 2, 2, 2, 2]"
            ]
          },
          "metadata": {},
          "execution_count": 65
        }
      ]
    },
    {
      "cell_type": "markdown",
      "source": [
        "### Gera Indivíduo"
      ],
      "metadata": {
        "id": "EnkejvpMJjh5"
      }
    },
    {
      "cell_type": "code",
      "source": [
        "def gera_individuo(n_cols):\n",
        "    # individuo é um Vetor (N) em que cada posicação\n",
        "    # representa uma coluna indicando as respectivas\n",
        "    # linhas ocupadas pelas rainhas em um tabuleiro (NxN).\n",
        "\n",
        "    # VT = [low, high) x n_cols\n",
        "\n",
        "    VT = np.random.randint(low=1, high=n_cols+1, size=n_cols)\n",
        "    return VT"
      ],
      "metadata": {
        "id": "rjDoVFiFJq82"
      },
      "execution_count": null,
      "outputs": []
    },
    {
      "cell_type": "code",
      "source": [
        "N=8\n",
        "gera_individuo(N)"
      ],
      "metadata": {
        "colab": {
          "base_uri": "https://localhost:8080/"
        },
        "id": "60EZhGMgNdcG",
        "outputId": "acb012d4-a45d-43d7-afa1-c67176258d09"
      },
      "execution_count": null,
      "outputs": [
        {
          "output_type": "execute_result",
          "data": {
            "text/plain": [
              "array([1, 8, 4, 1, 8, 6, 5, 6])"
            ]
          },
          "metadata": {},
          "execution_count": 70
        }
      ]
    },
    {
      "cell_type": "markdown",
      "source": [
        "### Gera População"
      ],
      "metadata": {
        "id": "0s9cB_ZmJ8iI"
      }
    },
    {
      "cell_type": "code",
      "source": [
        "def gera_populacao_inicial(N, tam_pop):\n",
        "    # N:       tamanho do tabuleiro (NxN)\n",
        "    # tam_pop: tamanho da população\n",
        "    populacao = []\n",
        "    for _ in range(tam_pop):\n",
        "        individuo = gera_individuo(N)\n",
        "\n",
        "        populacao.append(individuo)\n",
        "\n",
        "    return populacao"
      ],
      "metadata": {
        "id": "bHOtoOudJmHU"
      },
      "execution_count": null,
      "outputs": []
    },
    {
      "cell_type": "code",
      "source": [
        "N = 8\n",
        "tam_pop = 20\n",
        "gera_populacao_inicial(N, tam_pop)"
      ],
      "metadata": {
        "colab": {
          "base_uri": "https://localhost:8080/"
        },
        "id": "lcbFEfWDPM4y",
        "outputId": "e8caba21-147b-48ad-ac4d-0f395f084b07"
      },
      "execution_count": null,
      "outputs": [
        {
          "output_type": "execute_result",
          "data": {
            "text/plain": [
              "[array([6, 7, 1, 7, 3, 1, 6, 1]),\n",
              " array([1, 1, 2, 3, 7, 8, 8, 7]),\n",
              " array([5, 7, 2, 8, 1, 3, 4, 8]),\n",
              " array([5, 8, 5, 1, 3, 8, 6, 5]),\n",
              " array([4, 5, 6, 4, 7, 6, 4, 6]),\n",
              " array([2, 1, 8, 3, 3, 2, 7, 3]),\n",
              " array([4, 7, 5, 5, 5, 4, 5, 6]),\n",
              " array([7, 6, 6, 5, 6, 4, 5, 8]),\n",
              " array([5, 2, 5, 5, 3, 2, 4, 2]),\n",
              " array([6, 6, 2, 5, 8, 4, 8, 6]),\n",
              " array([2, 7, 6, 2, 5, 8, 1, 7]),\n",
              " array([3, 5, 2, 5, 2, 4, 6, 2]),\n",
              " array([3, 7, 4, 8, 1, 1, 5, 2]),\n",
              " array([5, 6, 7, 4, 7, 1, 3, 1]),\n",
              " array([7, 8, 3, 4, 7, 6, 7, 1]),\n",
              " array([8, 8, 1, 6, 4, 2, 8, 4]),\n",
              " array([8, 3, 7, 7, 8, 2, 4, 3]),\n",
              " array([8, 4, 3, 3, 1, 5, 5, 6]),\n",
              " array([2, 6, 3, 2, 2, 6, 5, 2]),\n",
              " array([7, 7, 8, 2, 7, 1, 2, 8])]"
            ]
          },
          "metadata": {},
          "execution_count": 74
        }
      ]
    },
    {
      "cell_type": "markdown",
      "source": [
        "## Algoritmo Genético - Implementação"
      ],
      "metadata": {
        "id": "l5_i1oumHeHq"
      }
    },
    {
      "cell_type": "code",
      "source": [
        "# 1) Randomly initialize populations p\n",
        "# 2) Compute fitness of population\n",
        "# 3) Until convergence repeat:\n",
        "#       a) Select parents from population\n",
        "#       b) Crossover and generate new population\n",
        "#       c) Perform mutation on new population\n",
        "# 4) Calculate fitness for new population"
      ],
      "metadata": {
        "id": "2Y_2nRRkH1sI"
      },
      "execution_count": null,
      "outputs": []
    },
    {
      "cell_type": "code",
      "source": [
        "def algoritmo_genetico():\n",
        "    # pseudo-código:\n",
        "\n",
        "    # START\n",
        "    N = 8\n",
        "    tam_pop = 10\n",
        "    fitness = gera_tuplas_custos # função fitness\n",
        "\n",
        "    # Generate the initial population\n",
        "    Populacao = gera_populacao_inicial(N, tam_pop)\n",
        "\n",
        "    # Compute fitness - apenas em caso de elitismo\n",
        "    #custosPopulacao = fitness(Populacao)\n",
        "\n",
        "    # REPEAT\n",
        "    while (True):\n",
        "        #     Selection\n",
        "        p1 = selecao(Populacao)\n",
        "        p2 = selecao(Populacao)\n",
        "        #     Crossover\n",
        "        #     Mutation\n",
        "        #     Compute fitness\n",
        "        # UNTIL population has converged\n",
        "    # STOP\n",
        "\n",
        "    # coloque seu código aqui\n",
        "    pass"
      ],
      "metadata": {
        "id": "-9BG1wnoJZTI"
      },
      "execution_count": null,
      "outputs": []
    },
    {
      "cell_type": "code",
      "source": [],
      "metadata": {
        "id": "lfIHDGlUtNu9"
      },
      "execution_count": null,
      "outputs": []
    }
  ]
}